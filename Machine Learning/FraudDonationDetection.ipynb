{
  "nbformat": 4,
  "nbformat_minor": 0,
  "metadata": {
    "colab": {
      "provenance": []
    },
    "kernelspec": {
      "name": "python3",
      "display_name": "Python 3"
    },
    "language_info": {
      "name": "python"
    }
  },
  "cells": [
    {
      "cell_type": "markdown",
      "source": [
        "# **INITIATION**"
      ],
      "metadata": {
        "id": "F5U46f7jdg5X"
      }
    },
    {
      "cell_type": "code",
      "source": [
        "# # Import Library\n",
        "\n",
        "import numpy as np\n",
        "import pandas as pd\n",
        "import matplotlib as plt\n",
        "import random\n",
        "\n",
        "from sklearn.model_selection import train_test_split\n",
        "from sklearn.preprocessing import LabelEncoder, OneHotEncoder, StandardScaler\n",
        "\n",
        "# tensorflow\n",
        "import tensorflow as tf\n",
        "import tensorflow_datasets as tfds"
      ],
      "metadata": {
        "id": "aHbPxDhtdx82"
      },
      "execution_count": null,
      "outputs": []
    },
    {
      "cell_type": "markdown",
      "source": [
        "# **DATA COLLECTING**"
      ],
      "metadata": {
        "id": "YhUEgd66dFcJ"
      }
    },
    {
      "cell_type": "code",
      "source": [
        "from google.colab import drive\n",
        "drive.mount('/content/drive')"
      ],
      "metadata": {
        "colab": {
          "base_uri": "https://localhost:8080/"
        },
        "id": "LdRHmGmaIsrp",
        "outputId": "9a7aa9d5-a497-463d-d346-036f151a5cf7"
      },
      "execution_count": null,
      "outputs": [
        {
          "output_type": "stream",
          "name": "stdout",
          "text": [
            "Mounted at /content/drive\n"
          ]
        }
      ]
    },
    {
      "cell_type": "code",
      "source": [
        "FRAUD_DETECTION_PATH = \"/content/drive/MyDrive/CAPSTONE 2023/dataset/Fraud Detection Dataset/transactions/transactions.txt\"\n",
        "FINDING_DONORS_PATH = \"/content/drive/MyDrive/CAPSTONE 2023/dataset/Finding Donors for CharityML/census.csv\"\n",
        "ONLINE_FRAUD_PATH = \"/content/drive/MyDrive/CAPSTONE 2023/dataset/Online Payments Fraud Detection Dataset/PS_20174392719_1491204439457_log.csv\""
      ],
      "metadata": {
        "id": "5gpwyOQ71_md"
      },
      "execution_count": null,
      "outputs": []
    },
    {
      "cell_type": "markdown",
      "source": [
        "# Fraud Detection DF"
      ],
      "metadata": {
        "id": "nwVCNBt069z6"
      }
    },
    {
      "cell_type": "code",
      "execution_count": null,
      "metadata": {
        "id": "V2n1oycrcXTp"
      },
      "outputs": [],
      "source": [
        "fraud_df = pd.read_json(FRAUD_DETECTION_PATH, lines=True)"
      ]
    },
    {
      "cell_type": "code",
      "source": [
        "fraud_df.columns"
      ],
      "metadata": {
        "id": "IjAw_cay2h0l",
        "colab": {
          "base_uri": "https://localhost:8080/"
        },
        "outputId": "dddfa40e-63c3-410f-ac75-88ed31b2f633"
      },
      "execution_count": null,
      "outputs": [
        {
          "output_type": "execute_result",
          "data": {
            "text/plain": [
              "Index(['accountNumber', 'customerId', 'creditLimit', 'availableMoney',\n",
              "       'transactionDateTime', 'transactionAmount', 'merchantName',\n",
              "       'acqCountry', 'merchantCountryCode', 'posEntryMode', 'posConditionCode',\n",
              "       'merchantCategoryCode', 'currentExpDate', 'accountOpenDate',\n",
              "       'dateOfLastAddressChange', 'cardCVV', 'enteredCVV', 'cardLast4Digits',\n",
              "       'transactionType', 'echoBuffer', 'currentBalance', 'merchantCity',\n",
              "       'merchantState', 'merchantZip', 'cardPresent', 'posOnPremises',\n",
              "       'recurringAuthInd', 'expirationDateKeyInMatch', 'isFraud'],\n",
              "      dtype='object')"
            ]
          },
          "metadata": {},
          "execution_count": 5
        }
      ]
    },
    {
      "cell_type": "markdown",
      "source": [
        "merchantName, merchantCategoryCode, transactionType, MerchantCity, isFraud"
      ],
      "metadata": {
        "id": "rTOhM2NCBgEo"
      }
    },
    {
      "cell_type": "code",
      "source": [
        "fraud_df.iloc[:10, :]"
      ],
      "metadata": {
        "colab": {
          "base_uri": "https://localhost:8080/",
          "height": 560
        },
        "id": "NbCfz8LD3IJV",
        "outputId": "8ed89c2d-67e5-45b8-de56-872507c52e1a"
      },
      "execution_count": null,
      "outputs": [
        {
          "output_type": "execute_result",
          "data": {
            "text/plain": [
              "   accountNumber  customerId  creditLimit  availableMoney  \\\n",
              "0      737265056   737265056         5000         5000.00   \n",
              "1      737265056   737265056         5000         5000.00   \n",
              "2      737265056   737265056         5000         5000.00   \n",
              "3      737265056   737265056         5000         5000.00   \n",
              "4      830329091   830329091         5000         5000.00   \n",
              "5      830329091   830329091         5000         5000.00   \n",
              "6      830329091   830329091         5000         5000.00   \n",
              "7      830329091   830329091         5000         5000.00   \n",
              "8      830329091   830329091         5000         4990.63   \n",
              "9      830329091   830329091         5000         5000.00   \n",
              "\n",
              "   transactionDateTime  transactionAmount          merchantName acqCountry  \\\n",
              "0  2016-08-13T14:27:32              98.55                  Uber         US   \n",
              "1  2016-10-11T05:05:54              74.51           AMC #191138         US   \n",
              "2  2016-11-08T09:18:39               7.47            Play Store         US   \n",
              "3  2016-12-10T02:14:50               7.47            Play Store         US   \n",
              "4  2016-03-24T21:04:46              71.18   Tim Hortons #947751         US   \n",
              "5  2016-04-19T16:24:27              30.76      In-N-Out #422833         US   \n",
              "6  2016-05-21T14:50:35              57.28  Krispy Kreme #685312         US   \n",
              "7  2016-06-03T00:31:21               9.37   Shake Shack #968081         US   \n",
              "8  2016-06-10T01:21:46             523.67   Burger King #486122              \n",
              "9  2016-07-11T10:47:16             164.37     Five Guys #510989         US   \n",
              "\n",
              "  merchantCountryCode posEntryMode  ... echoBuffer currentBalance  \\\n",
              "0                  US           02  ...                      0.00   \n",
              "1                  US           09  ...                      0.00   \n",
              "2                  US           09  ...                      0.00   \n",
              "3                  US           09  ...                      0.00   \n",
              "4                  US           02  ...                      0.00   \n",
              "5                  US           02  ...                      0.00   \n",
              "6                  US           02  ...                      0.00   \n",
              "7                  US           05  ...                      0.00   \n",
              "8                  US           02  ...                      9.37   \n",
              "9                  US           05  ...                      0.00   \n",
              "\n",
              "  merchantCity merchantState merchantZip  cardPresent  posOnPremises  \\\n",
              "0                                               False                  \n",
              "1                                                True                  \n",
              "2                                               False                  \n",
              "3                                               False                  \n",
              "4                                                True                  \n",
              "5                                                True                  \n",
              "6                                                True                  \n",
              "7                                                True                  \n",
              "8                                                True                  \n",
              "9                                                True                  \n",
              "\n",
              "   recurringAuthInd expirationDateKeyInMatch isFraud  \n",
              "0                                      False   False  \n",
              "1                                      False   False  \n",
              "2                                      False   False  \n",
              "3                                      False   False  \n",
              "4                                      False   False  \n",
              "5                                      False   False  \n",
              "6                                      False   False  \n",
              "7                                      False   False  \n",
              "8                                      False   False  \n",
              "9                                      False   False  \n",
              "\n",
              "[10 rows x 29 columns]"
            ],
            "text/html": [
              "\n",
              "  <div id=\"df-20924db7-db95-4ae1-9745-cb282afa131c\">\n",
              "    <div class=\"colab-df-container\">\n",
              "      <div>\n",
              "<style scoped>\n",
              "    .dataframe tbody tr th:only-of-type {\n",
              "        vertical-align: middle;\n",
              "    }\n",
              "\n",
              "    .dataframe tbody tr th {\n",
              "        vertical-align: top;\n",
              "    }\n",
              "\n",
              "    .dataframe thead th {\n",
              "        text-align: right;\n",
              "    }\n",
              "</style>\n",
              "<table border=\"1\" class=\"dataframe\">\n",
              "  <thead>\n",
              "    <tr style=\"text-align: right;\">\n",
              "      <th></th>\n",
              "      <th>accountNumber</th>\n",
              "      <th>customerId</th>\n",
              "      <th>creditLimit</th>\n",
              "      <th>availableMoney</th>\n",
              "      <th>transactionDateTime</th>\n",
              "      <th>transactionAmount</th>\n",
              "      <th>merchantName</th>\n",
              "      <th>acqCountry</th>\n",
              "      <th>merchantCountryCode</th>\n",
              "      <th>posEntryMode</th>\n",
              "      <th>...</th>\n",
              "      <th>echoBuffer</th>\n",
              "      <th>currentBalance</th>\n",
              "      <th>merchantCity</th>\n",
              "      <th>merchantState</th>\n",
              "      <th>merchantZip</th>\n",
              "      <th>cardPresent</th>\n",
              "      <th>posOnPremises</th>\n",
              "      <th>recurringAuthInd</th>\n",
              "      <th>expirationDateKeyInMatch</th>\n",
              "      <th>isFraud</th>\n",
              "    </tr>\n",
              "  </thead>\n",
              "  <tbody>\n",
              "    <tr>\n",
              "      <th>0</th>\n",
              "      <td>737265056</td>\n",
              "      <td>737265056</td>\n",
              "      <td>5000</td>\n",
              "      <td>5000.00</td>\n",
              "      <td>2016-08-13T14:27:32</td>\n",
              "      <td>98.55</td>\n",
              "      <td>Uber</td>\n",
              "      <td>US</td>\n",
              "      <td>US</td>\n",
              "      <td>02</td>\n",
              "      <td>...</td>\n",
              "      <td></td>\n",
              "      <td>0.00</td>\n",
              "      <td></td>\n",
              "      <td></td>\n",
              "      <td></td>\n",
              "      <td>False</td>\n",
              "      <td></td>\n",
              "      <td></td>\n",
              "      <td>False</td>\n",
              "      <td>False</td>\n",
              "    </tr>\n",
              "    <tr>\n",
              "      <th>1</th>\n",
              "      <td>737265056</td>\n",
              "      <td>737265056</td>\n",
              "      <td>5000</td>\n",
              "      <td>5000.00</td>\n",
              "      <td>2016-10-11T05:05:54</td>\n",
              "      <td>74.51</td>\n",
              "      <td>AMC #191138</td>\n",
              "      <td>US</td>\n",
              "      <td>US</td>\n",
              "      <td>09</td>\n",
              "      <td>...</td>\n",
              "      <td></td>\n",
              "      <td>0.00</td>\n",
              "      <td></td>\n",
              "      <td></td>\n",
              "      <td></td>\n",
              "      <td>True</td>\n",
              "      <td></td>\n",
              "      <td></td>\n",
              "      <td>False</td>\n",
              "      <td>False</td>\n",
              "    </tr>\n",
              "    <tr>\n",
              "      <th>2</th>\n",
              "      <td>737265056</td>\n",
              "      <td>737265056</td>\n",
              "      <td>5000</td>\n",
              "      <td>5000.00</td>\n",
              "      <td>2016-11-08T09:18:39</td>\n",
              "      <td>7.47</td>\n",
              "      <td>Play Store</td>\n",
              "      <td>US</td>\n",
              "      <td>US</td>\n",
              "      <td>09</td>\n",
              "      <td>...</td>\n",
              "      <td></td>\n",
              "      <td>0.00</td>\n",
              "      <td></td>\n",
              "      <td></td>\n",
              "      <td></td>\n",
              "      <td>False</td>\n",
              "      <td></td>\n",
              "      <td></td>\n",
              "      <td>False</td>\n",
              "      <td>False</td>\n",
              "    </tr>\n",
              "    <tr>\n",
              "      <th>3</th>\n",
              "      <td>737265056</td>\n",
              "      <td>737265056</td>\n",
              "      <td>5000</td>\n",
              "      <td>5000.00</td>\n",
              "      <td>2016-12-10T02:14:50</td>\n",
              "      <td>7.47</td>\n",
              "      <td>Play Store</td>\n",
              "      <td>US</td>\n",
              "      <td>US</td>\n",
              "      <td>09</td>\n",
              "      <td>...</td>\n",
              "      <td></td>\n",
              "      <td>0.00</td>\n",
              "      <td></td>\n",
              "      <td></td>\n",
              "      <td></td>\n",
              "      <td>False</td>\n",
              "      <td></td>\n",
              "      <td></td>\n",
              "      <td>False</td>\n",
              "      <td>False</td>\n",
              "    </tr>\n",
              "    <tr>\n",
              "      <th>4</th>\n",
              "      <td>830329091</td>\n",
              "      <td>830329091</td>\n",
              "      <td>5000</td>\n",
              "      <td>5000.00</td>\n",
              "      <td>2016-03-24T21:04:46</td>\n",
              "      <td>71.18</td>\n",
              "      <td>Tim Hortons #947751</td>\n",
              "      <td>US</td>\n",
              "      <td>US</td>\n",
              "      <td>02</td>\n",
              "      <td>...</td>\n",
              "      <td></td>\n",
              "      <td>0.00</td>\n",
              "      <td></td>\n",
              "      <td></td>\n",
              "      <td></td>\n",
              "      <td>True</td>\n",
              "      <td></td>\n",
              "      <td></td>\n",
              "      <td>False</td>\n",
              "      <td>False</td>\n",
              "    </tr>\n",
              "    <tr>\n",
              "      <th>5</th>\n",
              "      <td>830329091</td>\n",
              "      <td>830329091</td>\n",
              "      <td>5000</td>\n",
              "      <td>5000.00</td>\n",
              "      <td>2016-04-19T16:24:27</td>\n",
              "      <td>30.76</td>\n",
              "      <td>In-N-Out #422833</td>\n",
              "      <td>US</td>\n",
              "      <td>US</td>\n",
              "      <td>02</td>\n",
              "      <td>...</td>\n",
              "      <td></td>\n",
              "      <td>0.00</td>\n",
              "      <td></td>\n",
              "      <td></td>\n",
              "      <td></td>\n",
              "      <td>True</td>\n",
              "      <td></td>\n",
              "      <td></td>\n",
              "      <td>False</td>\n",
              "      <td>False</td>\n",
              "    </tr>\n",
              "    <tr>\n",
              "      <th>6</th>\n",
              "      <td>830329091</td>\n",
              "      <td>830329091</td>\n",
              "      <td>5000</td>\n",
              "      <td>5000.00</td>\n",
              "      <td>2016-05-21T14:50:35</td>\n",
              "      <td>57.28</td>\n",
              "      <td>Krispy Kreme #685312</td>\n",
              "      <td>US</td>\n",
              "      <td>US</td>\n",
              "      <td>02</td>\n",
              "      <td>...</td>\n",
              "      <td></td>\n",
              "      <td>0.00</td>\n",
              "      <td></td>\n",
              "      <td></td>\n",
              "      <td></td>\n",
              "      <td>True</td>\n",
              "      <td></td>\n",
              "      <td></td>\n",
              "      <td>False</td>\n",
              "      <td>False</td>\n",
              "    </tr>\n",
              "    <tr>\n",
              "      <th>7</th>\n",
              "      <td>830329091</td>\n",
              "      <td>830329091</td>\n",
              "      <td>5000</td>\n",
              "      <td>5000.00</td>\n",
              "      <td>2016-06-03T00:31:21</td>\n",
              "      <td>9.37</td>\n",
              "      <td>Shake Shack #968081</td>\n",
              "      <td>US</td>\n",
              "      <td>US</td>\n",
              "      <td>05</td>\n",
              "      <td>...</td>\n",
              "      <td></td>\n",
              "      <td>0.00</td>\n",
              "      <td></td>\n",
              "      <td></td>\n",
              "      <td></td>\n",
              "      <td>True</td>\n",
              "      <td></td>\n",
              "      <td></td>\n",
              "      <td>False</td>\n",
              "      <td>False</td>\n",
              "    </tr>\n",
              "    <tr>\n",
              "      <th>8</th>\n",
              "      <td>830329091</td>\n",
              "      <td>830329091</td>\n",
              "      <td>5000</td>\n",
              "      <td>4990.63</td>\n",
              "      <td>2016-06-10T01:21:46</td>\n",
              "      <td>523.67</td>\n",
              "      <td>Burger King #486122</td>\n",
              "      <td></td>\n",
              "      <td>US</td>\n",
              "      <td>02</td>\n",
              "      <td>...</td>\n",
              "      <td></td>\n",
              "      <td>9.37</td>\n",
              "      <td></td>\n",
              "      <td></td>\n",
              "      <td></td>\n",
              "      <td>True</td>\n",
              "      <td></td>\n",
              "      <td></td>\n",
              "      <td>False</td>\n",
              "      <td>False</td>\n",
              "    </tr>\n",
              "    <tr>\n",
              "      <th>9</th>\n",
              "      <td>830329091</td>\n",
              "      <td>830329091</td>\n",
              "      <td>5000</td>\n",
              "      <td>5000.00</td>\n",
              "      <td>2016-07-11T10:47:16</td>\n",
              "      <td>164.37</td>\n",
              "      <td>Five Guys #510989</td>\n",
              "      <td>US</td>\n",
              "      <td>US</td>\n",
              "      <td>05</td>\n",
              "      <td>...</td>\n",
              "      <td></td>\n",
              "      <td>0.00</td>\n",
              "      <td></td>\n",
              "      <td></td>\n",
              "      <td></td>\n",
              "      <td>True</td>\n",
              "      <td></td>\n",
              "      <td></td>\n",
              "      <td>False</td>\n",
              "      <td>False</td>\n",
              "    </tr>\n",
              "  </tbody>\n",
              "</table>\n",
              "<p>10 rows × 29 columns</p>\n",
              "</div>\n",
              "      <button class=\"colab-df-convert\" onclick=\"convertToInteractive('df-20924db7-db95-4ae1-9745-cb282afa131c')\"\n",
              "              title=\"Convert this dataframe to an interactive table.\"\n",
              "              style=\"display:none;\">\n",
              "        \n",
              "  <svg xmlns=\"http://www.w3.org/2000/svg\" height=\"24px\"viewBox=\"0 0 24 24\"\n",
              "       width=\"24px\">\n",
              "    <path d=\"M0 0h24v24H0V0z\" fill=\"none\"/>\n",
              "    <path d=\"M18.56 5.44l.94 2.06.94-2.06 2.06-.94-2.06-.94-.94-2.06-.94 2.06-2.06.94zm-11 1L8.5 8.5l.94-2.06 2.06-.94-2.06-.94L8.5 2.5l-.94 2.06-2.06.94zm10 10l.94 2.06.94-2.06 2.06-.94-2.06-.94-.94-2.06-.94 2.06-2.06.94z\"/><path d=\"M17.41 7.96l-1.37-1.37c-.4-.4-.92-.59-1.43-.59-.52 0-1.04.2-1.43.59L10.3 9.45l-7.72 7.72c-.78.78-.78 2.05 0 2.83L4 21.41c.39.39.9.59 1.41.59.51 0 1.02-.2 1.41-.59l7.78-7.78 2.81-2.81c.8-.78.8-2.07 0-2.86zM5.41 20L4 18.59l7.72-7.72 1.47 1.35L5.41 20z\"/>\n",
              "  </svg>\n",
              "      </button>\n",
              "      \n",
              "  <style>\n",
              "    .colab-df-container {\n",
              "      display:flex;\n",
              "      flex-wrap:wrap;\n",
              "      gap: 12px;\n",
              "    }\n",
              "\n",
              "    .colab-df-convert {\n",
              "      background-color: #E8F0FE;\n",
              "      border: none;\n",
              "      border-radius: 50%;\n",
              "      cursor: pointer;\n",
              "      display: none;\n",
              "      fill: #1967D2;\n",
              "      height: 32px;\n",
              "      padding: 0 0 0 0;\n",
              "      width: 32px;\n",
              "    }\n",
              "\n",
              "    .colab-df-convert:hover {\n",
              "      background-color: #E2EBFA;\n",
              "      box-shadow: 0px 1px 2px rgba(60, 64, 67, 0.3), 0px 1px 3px 1px rgba(60, 64, 67, 0.15);\n",
              "      fill: #174EA6;\n",
              "    }\n",
              "\n",
              "    [theme=dark] .colab-df-convert {\n",
              "      background-color: #3B4455;\n",
              "      fill: #D2E3FC;\n",
              "    }\n",
              "\n",
              "    [theme=dark] .colab-df-convert:hover {\n",
              "      background-color: #434B5C;\n",
              "      box-shadow: 0px 1px 3px 1px rgba(0, 0, 0, 0.15);\n",
              "      filter: drop-shadow(0px 1px 2px rgba(0, 0, 0, 0.3));\n",
              "      fill: #FFFFFF;\n",
              "    }\n",
              "  </style>\n",
              "\n",
              "      <script>\n",
              "        const buttonEl =\n",
              "          document.querySelector('#df-20924db7-db95-4ae1-9745-cb282afa131c button.colab-df-convert');\n",
              "        buttonEl.style.display =\n",
              "          google.colab.kernel.accessAllowed ? 'block' : 'none';\n",
              "\n",
              "        async function convertToInteractive(key) {\n",
              "          const element = document.querySelector('#df-20924db7-db95-4ae1-9745-cb282afa131c');\n",
              "          const dataTable =\n",
              "            await google.colab.kernel.invokeFunction('convertToInteractive',\n",
              "                                                     [key], {});\n",
              "          if (!dataTable) return;\n",
              "\n",
              "          const docLinkHtml = 'Like what you see? Visit the ' +\n",
              "            '<a target=\"_blank\" href=https://colab.research.google.com/notebooks/data_table.ipynb>data table notebook</a>'\n",
              "            + ' to learn more about interactive tables.';\n",
              "          element.innerHTML = '';\n",
              "          dataTable['output_type'] = 'display_data';\n",
              "          await google.colab.output.renderOutput(dataTable, element);\n",
              "          const docLink = document.createElement('div');\n",
              "          docLink.innerHTML = docLinkHtml;\n",
              "          element.appendChild(docLink);\n",
              "        }\n",
              "      </script>\n",
              "    </div>\n",
              "  </div>\n",
              "  "
            ]
          },
          "metadata": {},
          "execution_count": 6
        }
      ]
    },
    {
      "cell_type": "markdown",
      "source": [
        "# Finding Donors DF"
      ],
      "metadata": {
        "id": "K_XW488f7Bb9"
      }
    },
    {
      "cell_type": "code",
      "source": [
        "donors_df = pd.read_csv(FINDING_DONORS_PATH)"
      ],
      "metadata": {
        "id": "qLWR6Ml67Ayg"
      },
      "execution_count": null,
      "outputs": []
    },
    {
      "cell_type": "code",
      "source": [
        "donors_df.columns"
      ],
      "metadata": {
        "colab": {
          "base_uri": "https://localhost:8080/"
        },
        "id": "Klzv9ksT6MP6",
        "outputId": "f4fdfccb-91ab-4cc2-afa3-018f5e431f63"
      },
      "execution_count": null,
      "outputs": [
        {
          "output_type": "execute_result",
          "data": {
            "text/plain": [
              "Index(['age', 'workclass', 'education_level', 'education-num',\n",
              "       'marital-status', 'occupation', 'relationship', 'race', 'sex',\n",
              "       'capital-gain', 'capital-loss', 'hours-per-week', 'native-country',\n",
              "       'income'],\n",
              "      dtype='object')"
            ]
          },
          "metadata": {},
          "execution_count": 9
        }
      ]
    },
    {
      "cell_type": "code",
      "source": [
        "donors_df.iloc[:10, :]"
      ],
      "metadata": {
        "colab": {
          "base_uri": "https://localhost:8080/",
          "height": 511
        },
        "id": "rW1n9EKz71Jr",
        "outputId": "642a3105-504f-46f0-d85c-eb5f0101bdcc"
      },
      "execution_count": null,
      "outputs": [
        {
          "output_type": "execute_result",
          "data": {
            "text/plain": [
              "   age          workclass education_level  education-num  \\\n",
              "0   39          State-gov       Bachelors           13.0   \n",
              "1   50   Self-emp-not-inc       Bachelors           13.0   \n",
              "2   38            Private         HS-grad            9.0   \n",
              "3   53            Private            11th            7.0   \n",
              "4   28            Private       Bachelors           13.0   \n",
              "5   37            Private         Masters           14.0   \n",
              "6   49            Private             9th            5.0   \n",
              "7   52   Self-emp-not-inc         HS-grad            9.0   \n",
              "8   31            Private         Masters           14.0   \n",
              "9   42            Private       Bachelors           13.0   \n",
              "\n",
              "           marital-status          occupation    relationship    race  \\\n",
              "0           Never-married        Adm-clerical   Not-in-family   White   \n",
              "1      Married-civ-spouse     Exec-managerial         Husband   White   \n",
              "2                Divorced   Handlers-cleaners   Not-in-family   White   \n",
              "3      Married-civ-spouse   Handlers-cleaners         Husband   Black   \n",
              "4      Married-civ-spouse      Prof-specialty            Wife   Black   \n",
              "5      Married-civ-spouse     Exec-managerial            Wife   White   \n",
              "6   Married-spouse-absent       Other-service   Not-in-family   Black   \n",
              "7      Married-civ-spouse     Exec-managerial         Husband   White   \n",
              "8           Never-married      Prof-specialty   Not-in-family   White   \n",
              "9      Married-civ-spouse     Exec-managerial         Husband   White   \n",
              "\n",
              "       sex  capital-gain  capital-loss  hours-per-week  native-country income  \n",
              "0     Male        2174.0           0.0            40.0   United-States  <=50K  \n",
              "1     Male           0.0           0.0            13.0   United-States  <=50K  \n",
              "2     Male           0.0           0.0            40.0   United-States  <=50K  \n",
              "3     Male           0.0           0.0            40.0   United-States  <=50K  \n",
              "4   Female           0.0           0.0            40.0            Cuba  <=50K  \n",
              "5   Female           0.0           0.0            40.0   United-States  <=50K  \n",
              "6   Female           0.0           0.0            16.0         Jamaica  <=50K  \n",
              "7     Male           0.0           0.0            45.0   United-States   >50K  \n",
              "8   Female       14084.0           0.0            50.0   United-States   >50K  \n",
              "9     Male        5178.0           0.0            40.0   United-States   >50K  "
            ],
            "text/html": [
              "\n",
              "  <div id=\"df-53c5b28b-dbad-48f8-b64d-5e387742d685\">\n",
              "    <div class=\"colab-df-container\">\n",
              "      <div>\n",
              "<style scoped>\n",
              "    .dataframe tbody tr th:only-of-type {\n",
              "        vertical-align: middle;\n",
              "    }\n",
              "\n",
              "    .dataframe tbody tr th {\n",
              "        vertical-align: top;\n",
              "    }\n",
              "\n",
              "    .dataframe thead th {\n",
              "        text-align: right;\n",
              "    }\n",
              "</style>\n",
              "<table border=\"1\" class=\"dataframe\">\n",
              "  <thead>\n",
              "    <tr style=\"text-align: right;\">\n",
              "      <th></th>\n",
              "      <th>age</th>\n",
              "      <th>workclass</th>\n",
              "      <th>education_level</th>\n",
              "      <th>education-num</th>\n",
              "      <th>marital-status</th>\n",
              "      <th>occupation</th>\n",
              "      <th>relationship</th>\n",
              "      <th>race</th>\n",
              "      <th>sex</th>\n",
              "      <th>capital-gain</th>\n",
              "      <th>capital-loss</th>\n",
              "      <th>hours-per-week</th>\n",
              "      <th>native-country</th>\n",
              "      <th>income</th>\n",
              "    </tr>\n",
              "  </thead>\n",
              "  <tbody>\n",
              "    <tr>\n",
              "      <th>0</th>\n",
              "      <td>39</td>\n",
              "      <td>State-gov</td>\n",
              "      <td>Bachelors</td>\n",
              "      <td>13.0</td>\n",
              "      <td>Never-married</td>\n",
              "      <td>Adm-clerical</td>\n",
              "      <td>Not-in-family</td>\n",
              "      <td>White</td>\n",
              "      <td>Male</td>\n",
              "      <td>2174.0</td>\n",
              "      <td>0.0</td>\n",
              "      <td>40.0</td>\n",
              "      <td>United-States</td>\n",
              "      <td>&lt;=50K</td>\n",
              "    </tr>\n",
              "    <tr>\n",
              "      <th>1</th>\n",
              "      <td>50</td>\n",
              "      <td>Self-emp-not-inc</td>\n",
              "      <td>Bachelors</td>\n",
              "      <td>13.0</td>\n",
              "      <td>Married-civ-spouse</td>\n",
              "      <td>Exec-managerial</td>\n",
              "      <td>Husband</td>\n",
              "      <td>White</td>\n",
              "      <td>Male</td>\n",
              "      <td>0.0</td>\n",
              "      <td>0.0</td>\n",
              "      <td>13.0</td>\n",
              "      <td>United-States</td>\n",
              "      <td>&lt;=50K</td>\n",
              "    </tr>\n",
              "    <tr>\n",
              "      <th>2</th>\n",
              "      <td>38</td>\n",
              "      <td>Private</td>\n",
              "      <td>HS-grad</td>\n",
              "      <td>9.0</td>\n",
              "      <td>Divorced</td>\n",
              "      <td>Handlers-cleaners</td>\n",
              "      <td>Not-in-family</td>\n",
              "      <td>White</td>\n",
              "      <td>Male</td>\n",
              "      <td>0.0</td>\n",
              "      <td>0.0</td>\n",
              "      <td>40.0</td>\n",
              "      <td>United-States</td>\n",
              "      <td>&lt;=50K</td>\n",
              "    </tr>\n",
              "    <tr>\n",
              "      <th>3</th>\n",
              "      <td>53</td>\n",
              "      <td>Private</td>\n",
              "      <td>11th</td>\n",
              "      <td>7.0</td>\n",
              "      <td>Married-civ-spouse</td>\n",
              "      <td>Handlers-cleaners</td>\n",
              "      <td>Husband</td>\n",
              "      <td>Black</td>\n",
              "      <td>Male</td>\n",
              "      <td>0.0</td>\n",
              "      <td>0.0</td>\n",
              "      <td>40.0</td>\n",
              "      <td>United-States</td>\n",
              "      <td>&lt;=50K</td>\n",
              "    </tr>\n",
              "    <tr>\n",
              "      <th>4</th>\n",
              "      <td>28</td>\n",
              "      <td>Private</td>\n",
              "      <td>Bachelors</td>\n",
              "      <td>13.0</td>\n",
              "      <td>Married-civ-spouse</td>\n",
              "      <td>Prof-specialty</td>\n",
              "      <td>Wife</td>\n",
              "      <td>Black</td>\n",
              "      <td>Female</td>\n",
              "      <td>0.0</td>\n",
              "      <td>0.0</td>\n",
              "      <td>40.0</td>\n",
              "      <td>Cuba</td>\n",
              "      <td>&lt;=50K</td>\n",
              "    </tr>\n",
              "    <tr>\n",
              "      <th>5</th>\n",
              "      <td>37</td>\n",
              "      <td>Private</td>\n",
              "      <td>Masters</td>\n",
              "      <td>14.0</td>\n",
              "      <td>Married-civ-spouse</td>\n",
              "      <td>Exec-managerial</td>\n",
              "      <td>Wife</td>\n",
              "      <td>White</td>\n",
              "      <td>Female</td>\n",
              "      <td>0.0</td>\n",
              "      <td>0.0</td>\n",
              "      <td>40.0</td>\n",
              "      <td>United-States</td>\n",
              "      <td>&lt;=50K</td>\n",
              "    </tr>\n",
              "    <tr>\n",
              "      <th>6</th>\n",
              "      <td>49</td>\n",
              "      <td>Private</td>\n",
              "      <td>9th</td>\n",
              "      <td>5.0</td>\n",
              "      <td>Married-spouse-absent</td>\n",
              "      <td>Other-service</td>\n",
              "      <td>Not-in-family</td>\n",
              "      <td>Black</td>\n",
              "      <td>Female</td>\n",
              "      <td>0.0</td>\n",
              "      <td>0.0</td>\n",
              "      <td>16.0</td>\n",
              "      <td>Jamaica</td>\n",
              "      <td>&lt;=50K</td>\n",
              "    </tr>\n",
              "    <tr>\n",
              "      <th>7</th>\n",
              "      <td>52</td>\n",
              "      <td>Self-emp-not-inc</td>\n",
              "      <td>HS-grad</td>\n",
              "      <td>9.0</td>\n",
              "      <td>Married-civ-spouse</td>\n",
              "      <td>Exec-managerial</td>\n",
              "      <td>Husband</td>\n",
              "      <td>White</td>\n",
              "      <td>Male</td>\n",
              "      <td>0.0</td>\n",
              "      <td>0.0</td>\n",
              "      <td>45.0</td>\n",
              "      <td>United-States</td>\n",
              "      <td>&gt;50K</td>\n",
              "    </tr>\n",
              "    <tr>\n",
              "      <th>8</th>\n",
              "      <td>31</td>\n",
              "      <td>Private</td>\n",
              "      <td>Masters</td>\n",
              "      <td>14.0</td>\n",
              "      <td>Never-married</td>\n",
              "      <td>Prof-specialty</td>\n",
              "      <td>Not-in-family</td>\n",
              "      <td>White</td>\n",
              "      <td>Female</td>\n",
              "      <td>14084.0</td>\n",
              "      <td>0.0</td>\n",
              "      <td>50.0</td>\n",
              "      <td>United-States</td>\n",
              "      <td>&gt;50K</td>\n",
              "    </tr>\n",
              "    <tr>\n",
              "      <th>9</th>\n",
              "      <td>42</td>\n",
              "      <td>Private</td>\n",
              "      <td>Bachelors</td>\n",
              "      <td>13.0</td>\n",
              "      <td>Married-civ-spouse</td>\n",
              "      <td>Exec-managerial</td>\n",
              "      <td>Husband</td>\n",
              "      <td>White</td>\n",
              "      <td>Male</td>\n",
              "      <td>5178.0</td>\n",
              "      <td>0.0</td>\n",
              "      <td>40.0</td>\n",
              "      <td>United-States</td>\n",
              "      <td>&gt;50K</td>\n",
              "    </tr>\n",
              "  </tbody>\n",
              "</table>\n",
              "</div>\n",
              "      <button class=\"colab-df-convert\" onclick=\"convertToInteractive('df-53c5b28b-dbad-48f8-b64d-5e387742d685')\"\n",
              "              title=\"Convert this dataframe to an interactive table.\"\n",
              "              style=\"display:none;\">\n",
              "        \n",
              "  <svg xmlns=\"http://www.w3.org/2000/svg\" height=\"24px\"viewBox=\"0 0 24 24\"\n",
              "       width=\"24px\">\n",
              "    <path d=\"M0 0h24v24H0V0z\" fill=\"none\"/>\n",
              "    <path d=\"M18.56 5.44l.94 2.06.94-2.06 2.06-.94-2.06-.94-.94-2.06-.94 2.06-2.06.94zm-11 1L8.5 8.5l.94-2.06 2.06-.94-2.06-.94L8.5 2.5l-.94 2.06-2.06.94zm10 10l.94 2.06.94-2.06 2.06-.94-2.06-.94-.94-2.06-.94 2.06-2.06.94z\"/><path d=\"M17.41 7.96l-1.37-1.37c-.4-.4-.92-.59-1.43-.59-.52 0-1.04.2-1.43.59L10.3 9.45l-7.72 7.72c-.78.78-.78 2.05 0 2.83L4 21.41c.39.39.9.59 1.41.59.51 0 1.02-.2 1.41-.59l7.78-7.78 2.81-2.81c.8-.78.8-2.07 0-2.86zM5.41 20L4 18.59l7.72-7.72 1.47 1.35L5.41 20z\"/>\n",
              "  </svg>\n",
              "      </button>\n",
              "      \n",
              "  <style>\n",
              "    .colab-df-container {\n",
              "      display:flex;\n",
              "      flex-wrap:wrap;\n",
              "      gap: 12px;\n",
              "    }\n",
              "\n",
              "    .colab-df-convert {\n",
              "      background-color: #E8F0FE;\n",
              "      border: none;\n",
              "      border-radius: 50%;\n",
              "      cursor: pointer;\n",
              "      display: none;\n",
              "      fill: #1967D2;\n",
              "      height: 32px;\n",
              "      padding: 0 0 0 0;\n",
              "      width: 32px;\n",
              "    }\n",
              "\n",
              "    .colab-df-convert:hover {\n",
              "      background-color: #E2EBFA;\n",
              "      box-shadow: 0px 1px 2px rgba(60, 64, 67, 0.3), 0px 1px 3px 1px rgba(60, 64, 67, 0.15);\n",
              "      fill: #174EA6;\n",
              "    }\n",
              "\n",
              "    [theme=dark] .colab-df-convert {\n",
              "      background-color: #3B4455;\n",
              "      fill: #D2E3FC;\n",
              "    }\n",
              "\n",
              "    [theme=dark] .colab-df-convert:hover {\n",
              "      background-color: #434B5C;\n",
              "      box-shadow: 0px 1px 3px 1px rgba(0, 0, 0, 0.15);\n",
              "      filter: drop-shadow(0px 1px 2px rgba(0, 0, 0, 0.3));\n",
              "      fill: #FFFFFF;\n",
              "    }\n",
              "  </style>\n",
              "\n",
              "      <script>\n",
              "        const buttonEl =\n",
              "          document.querySelector('#df-53c5b28b-dbad-48f8-b64d-5e387742d685 button.colab-df-convert');\n",
              "        buttonEl.style.display =\n",
              "          google.colab.kernel.accessAllowed ? 'block' : 'none';\n",
              "\n",
              "        async function convertToInteractive(key) {\n",
              "          const element = document.querySelector('#df-53c5b28b-dbad-48f8-b64d-5e387742d685');\n",
              "          const dataTable =\n",
              "            await google.colab.kernel.invokeFunction('convertToInteractive',\n",
              "                                                     [key], {});\n",
              "          if (!dataTable) return;\n",
              "\n",
              "          const docLinkHtml = 'Like what you see? Visit the ' +\n",
              "            '<a target=\"_blank\" href=https://colab.research.google.com/notebooks/data_table.ipynb>data table notebook</a>'\n",
              "            + ' to learn more about interactive tables.';\n",
              "          element.innerHTML = '';\n",
              "          dataTable['output_type'] = 'display_data';\n",
              "          await google.colab.output.renderOutput(dataTable, element);\n",
              "          const docLink = document.createElement('div');\n",
              "          docLink.innerHTML = docLinkHtml;\n",
              "          element.appendChild(docLink);\n",
              "        }\n",
              "      </script>\n",
              "    </div>\n",
              "  </div>\n",
              "  "
            ]
          },
          "metadata": {},
          "execution_count": 10
        }
      ]
    },
    {
      "cell_type": "markdown",
      "source": [
        "# Online Fraud DF"
      ],
      "metadata": {
        "id": "bEpQW41T7fo3"
      }
    },
    {
      "cell_type": "code",
      "source": [
        "online_df = pd.read_csv(ONLINE_FRAUD_PATH)"
      ],
      "metadata": {
        "id": "11_8kQNn7ey4"
      },
      "execution_count": null,
      "outputs": []
    },
    {
      "cell_type": "code",
      "source": [
        "online_df.columns"
      ],
      "metadata": {
        "colab": {
          "base_uri": "https://localhost:8080/"
        },
        "id": "KiMmKMOB8KIT",
        "outputId": "1ec13e13-cc99-4ac7-ec66-1151e18212e2"
      },
      "execution_count": null,
      "outputs": [
        {
          "output_type": "execute_result",
          "data": {
            "text/plain": [
              "Index(['step', 'type', 'amount', 'nameOrig', 'oldbalanceOrg', 'newbalanceOrig',\n",
              "       'nameDest', 'oldbalanceDest', 'newbalanceDest', 'isFraud',\n",
              "       'isFlaggedFraud'],\n",
              "      dtype='object')"
            ]
          },
          "metadata": {},
          "execution_count": 8
        }
      ]
    },
    {
      "cell_type": "markdown",
      "source": [
        "type, nameOrig, oldbalanceOrg, newbalanceOrig, oldbalanceDest, newbalanceDest, isFraud"
      ],
      "metadata": {
        "id": "tyM1NDKGByLz"
      }
    },
    {
      "cell_type": "code",
      "source": [
        "online_df.iloc[:10, :]"
      ],
      "metadata": {
        "colab": {
          "base_uri": "https://localhost:8080/",
          "height": 363
        },
        "id": "oJhjZ0gI8Lxz",
        "outputId": "fc2bef6e-aed4-46c5-d967-cf77473df96e"
      },
      "execution_count": null,
      "outputs": [
        {
          "output_type": "execute_result",
          "data": {
            "text/plain": [
              "   step      type    amount     nameOrig  oldbalanceOrg  newbalanceOrig  \\\n",
              "0     1   PAYMENT   9839.64  C1231006815      170136.00       160296.36   \n",
              "1     1   PAYMENT   1864.28  C1666544295       21249.00        19384.72   \n",
              "2     1  TRANSFER    181.00  C1305486145         181.00            0.00   \n",
              "3     1  CASH_OUT    181.00   C840083671         181.00            0.00   \n",
              "4     1   PAYMENT  11668.14  C2048537720       41554.00        29885.86   \n",
              "5     1   PAYMENT   7817.71    C90045638       53860.00        46042.29   \n",
              "6     1   PAYMENT   7107.77   C154988899      183195.00       176087.23   \n",
              "7     1   PAYMENT   7861.64  C1912850431      176087.23       168225.59   \n",
              "8     1   PAYMENT   4024.36  C1265012928        2671.00            0.00   \n",
              "9     1     DEBIT   5337.77   C712410124       41720.00        36382.23   \n",
              "\n",
              "      nameDest  oldbalanceDest  newbalanceDest  isFraud  isFlaggedFraud  \n",
              "0  M1979787155             0.0            0.00        0               0  \n",
              "1  M2044282225             0.0            0.00        0               0  \n",
              "2   C553264065             0.0            0.00        1               0  \n",
              "3    C38997010         21182.0            0.00        1               0  \n",
              "4  M1230701703             0.0            0.00        0               0  \n",
              "5   M573487274             0.0            0.00        0               0  \n",
              "6   M408069119             0.0            0.00        0               0  \n",
              "7   M633326333             0.0            0.00        0               0  \n",
              "8  M1176932104             0.0            0.00        0               0  \n",
              "9   C195600860         41898.0        40348.79        0               0  "
            ],
            "text/html": [
              "\n",
              "  <div id=\"df-fbce3334-8266-4c1c-a553-566d4d6c37ad\">\n",
              "    <div class=\"colab-df-container\">\n",
              "      <div>\n",
              "<style scoped>\n",
              "    .dataframe tbody tr th:only-of-type {\n",
              "        vertical-align: middle;\n",
              "    }\n",
              "\n",
              "    .dataframe tbody tr th {\n",
              "        vertical-align: top;\n",
              "    }\n",
              "\n",
              "    .dataframe thead th {\n",
              "        text-align: right;\n",
              "    }\n",
              "</style>\n",
              "<table border=\"1\" class=\"dataframe\">\n",
              "  <thead>\n",
              "    <tr style=\"text-align: right;\">\n",
              "      <th></th>\n",
              "      <th>step</th>\n",
              "      <th>type</th>\n",
              "      <th>amount</th>\n",
              "      <th>nameOrig</th>\n",
              "      <th>oldbalanceOrg</th>\n",
              "      <th>newbalanceOrig</th>\n",
              "      <th>nameDest</th>\n",
              "      <th>oldbalanceDest</th>\n",
              "      <th>newbalanceDest</th>\n",
              "      <th>isFraud</th>\n",
              "      <th>isFlaggedFraud</th>\n",
              "    </tr>\n",
              "  </thead>\n",
              "  <tbody>\n",
              "    <tr>\n",
              "      <th>0</th>\n",
              "      <td>1</td>\n",
              "      <td>PAYMENT</td>\n",
              "      <td>9839.64</td>\n",
              "      <td>C1231006815</td>\n",
              "      <td>170136.00</td>\n",
              "      <td>160296.36</td>\n",
              "      <td>M1979787155</td>\n",
              "      <td>0.0</td>\n",
              "      <td>0.00</td>\n",
              "      <td>0</td>\n",
              "      <td>0</td>\n",
              "    </tr>\n",
              "    <tr>\n",
              "      <th>1</th>\n",
              "      <td>1</td>\n",
              "      <td>PAYMENT</td>\n",
              "      <td>1864.28</td>\n",
              "      <td>C1666544295</td>\n",
              "      <td>21249.00</td>\n",
              "      <td>19384.72</td>\n",
              "      <td>M2044282225</td>\n",
              "      <td>0.0</td>\n",
              "      <td>0.00</td>\n",
              "      <td>0</td>\n",
              "      <td>0</td>\n",
              "    </tr>\n",
              "    <tr>\n",
              "      <th>2</th>\n",
              "      <td>1</td>\n",
              "      <td>TRANSFER</td>\n",
              "      <td>181.00</td>\n",
              "      <td>C1305486145</td>\n",
              "      <td>181.00</td>\n",
              "      <td>0.00</td>\n",
              "      <td>C553264065</td>\n",
              "      <td>0.0</td>\n",
              "      <td>0.00</td>\n",
              "      <td>1</td>\n",
              "      <td>0</td>\n",
              "    </tr>\n",
              "    <tr>\n",
              "      <th>3</th>\n",
              "      <td>1</td>\n",
              "      <td>CASH_OUT</td>\n",
              "      <td>181.00</td>\n",
              "      <td>C840083671</td>\n",
              "      <td>181.00</td>\n",
              "      <td>0.00</td>\n",
              "      <td>C38997010</td>\n",
              "      <td>21182.0</td>\n",
              "      <td>0.00</td>\n",
              "      <td>1</td>\n",
              "      <td>0</td>\n",
              "    </tr>\n",
              "    <tr>\n",
              "      <th>4</th>\n",
              "      <td>1</td>\n",
              "      <td>PAYMENT</td>\n",
              "      <td>11668.14</td>\n",
              "      <td>C2048537720</td>\n",
              "      <td>41554.00</td>\n",
              "      <td>29885.86</td>\n",
              "      <td>M1230701703</td>\n",
              "      <td>0.0</td>\n",
              "      <td>0.00</td>\n",
              "      <td>0</td>\n",
              "      <td>0</td>\n",
              "    </tr>\n",
              "    <tr>\n",
              "      <th>5</th>\n",
              "      <td>1</td>\n",
              "      <td>PAYMENT</td>\n",
              "      <td>7817.71</td>\n",
              "      <td>C90045638</td>\n",
              "      <td>53860.00</td>\n",
              "      <td>46042.29</td>\n",
              "      <td>M573487274</td>\n",
              "      <td>0.0</td>\n",
              "      <td>0.00</td>\n",
              "      <td>0</td>\n",
              "      <td>0</td>\n",
              "    </tr>\n",
              "    <tr>\n",
              "      <th>6</th>\n",
              "      <td>1</td>\n",
              "      <td>PAYMENT</td>\n",
              "      <td>7107.77</td>\n",
              "      <td>C154988899</td>\n",
              "      <td>183195.00</td>\n",
              "      <td>176087.23</td>\n",
              "      <td>M408069119</td>\n",
              "      <td>0.0</td>\n",
              "      <td>0.00</td>\n",
              "      <td>0</td>\n",
              "      <td>0</td>\n",
              "    </tr>\n",
              "    <tr>\n",
              "      <th>7</th>\n",
              "      <td>1</td>\n",
              "      <td>PAYMENT</td>\n",
              "      <td>7861.64</td>\n",
              "      <td>C1912850431</td>\n",
              "      <td>176087.23</td>\n",
              "      <td>168225.59</td>\n",
              "      <td>M633326333</td>\n",
              "      <td>0.0</td>\n",
              "      <td>0.00</td>\n",
              "      <td>0</td>\n",
              "      <td>0</td>\n",
              "    </tr>\n",
              "    <tr>\n",
              "      <th>8</th>\n",
              "      <td>1</td>\n",
              "      <td>PAYMENT</td>\n",
              "      <td>4024.36</td>\n",
              "      <td>C1265012928</td>\n",
              "      <td>2671.00</td>\n",
              "      <td>0.00</td>\n",
              "      <td>M1176932104</td>\n",
              "      <td>0.0</td>\n",
              "      <td>0.00</td>\n",
              "      <td>0</td>\n",
              "      <td>0</td>\n",
              "    </tr>\n",
              "    <tr>\n",
              "      <th>9</th>\n",
              "      <td>1</td>\n",
              "      <td>DEBIT</td>\n",
              "      <td>5337.77</td>\n",
              "      <td>C712410124</td>\n",
              "      <td>41720.00</td>\n",
              "      <td>36382.23</td>\n",
              "      <td>C195600860</td>\n",
              "      <td>41898.0</td>\n",
              "      <td>40348.79</td>\n",
              "      <td>0</td>\n",
              "      <td>0</td>\n",
              "    </tr>\n",
              "  </tbody>\n",
              "</table>\n",
              "</div>\n",
              "      <button class=\"colab-df-convert\" onclick=\"convertToInteractive('df-fbce3334-8266-4c1c-a553-566d4d6c37ad')\"\n",
              "              title=\"Convert this dataframe to an interactive table.\"\n",
              "              style=\"display:none;\">\n",
              "        \n",
              "  <svg xmlns=\"http://www.w3.org/2000/svg\" height=\"24px\"viewBox=\"0 0 24 24\"\n",
              "       width=\"24px\">\n",
              "    <path d=\"M0 0h24v24H0V0z\" fill=\"none\"/>\n",
              "    <path d=\"M18.56 5.44l.94 2.06.94-2.06 2.06-.94-2.06-.94-.94-2.06-.94 2.06-2.06.94zm-11 1L8.5 8.5l.94-2.06 2.06-.94-2.06-.94L8.5 2.5l-.94 2.06-2.06.94zm10 10l.94 2.06.94-2.06 2.06-.94-2.06-.94-.94-2.06-.94 2.06-2.06.94z\"/><path d=\"M17.41 7.96l-1.37-1.37c-.4-.4-.92-.59-1.43-.59-.52 0-1.04.2-1.43.59L10.3 9.45l-7.72 7.72c-.78.78-.78 2.05 0 2.83L4 21.41c.39.39.9.59 1.41.59.51 0 1.02-.2 1.41-.59l7.78-7.78 2.81-2.81c.8-.78.8-2.07 0-2.86zM5.41 20L4 18.59l7.72-7.72 1.47 1.35L5.41 20z\"/>\n",
              "  </svg>\n",
              "      </button>\n",
              "      \n",
              "  <style>\n",
              "    .colab-df-container {\n",
              "      display:flex;\n",
              "      flex-wrap:wrap;\n",
              "      gap: 12px;\n",
              "    }\n",
              "\n",
              "    .colab-df-convert {\n",
              "      background-color: #E8F0FE;\n",
              "      border: none;\n",
              "      border-radius: 50%;\n",
              "      cursor: pointer;\n",
              "      display: none;\n",
              "      fill: #1967D2;\n",
              "      height: 32px;\n",
              "      padding: 0 0 0 0;\n",
              "      width: 32px;\n",
              "    }\n",
              "\n",
              "    .colab-df-convert:hover {\n",
              "      background-color: #E2EBFA;\n",
              "      box-shadow: 0px 1px 2px rgba(60, 64, 67, 0.3), 0px 1px 3px 1px rgba(60, 64, 67, 0.15);\n",
              "      fill: #174EA6;\n",
              "    }\n",
              "\n",
              "    [theme=dark] .colab-df-convert {\n",
              "      background-color: #3B4455;\n",
              "      fill: #D2E3FC;\n",
              "    }\n",
              "\n",
              "    [theme=dark] .colab-df-convert:hover {\n",
              "      background-color: #434B5C;\n",
              "      box-shadow: 0px 1px 3px 1px rgba(0, 0, 0, 0.15);\n",
              "      filter: drop-shadow(0px 1px 2px rgba(0, 0, 0, 0.3));\n",
              "      fill: #FFFFFF;\n",
              "    }\n",
              "  </style>\n",
              "\n",
              "      <script>\n",
              "        const buttonEl =\n",
              "          document.querySelector('#df-fbce3334-8266-4c1c-a553-566d4d6c37ad button.colab-df-convert');\n",
              "        buttonEl.style.display =\n",
              "          google.colab.kernel.accessAllowed ? 'block' : 'none';\n",
              "\n",
              "        async function convertToInteractive(key) {\n",
              "          const element = document.querySelector('#df-fbce3334-8266-4c1c-a553-566d4d6c37ad');\n",
              "          const dataTable =\n",
              "            await google.colab.kernel.invokeFunction('convertToInteractive',\n",
              "                                                     [key], {});\n",
              "          if (!dataTable) return;\n",
              "\n",
              "          const docLinkHtml = 'Like what you see? Visit the ' +\n",
              "            '<a target=\"_blank\" href=https://colab.research.google.com/notebooks/data_table.ipynb>data table notebook</a>'\n",
              "            + ' to learn more about interactive tables.';\n",
              "          element.innerHTML = '';\n",
              "          dataTable['output_type'] = 'display_data';\n",
              "          await google.colab.output.renderOutput(dataTable, element);\n",
              "          const docLink = document.createElement('div');\n",
              "          docLink.innerHTML = docLinkHtml;\n",
              "          element.appendChild(docLink);\n",
              "        }\n",
              "      </script>\n",
              "    </div>\n",
              "  </div>\n",
              "  "
            ]
          },
          "metadata": {},
          "execution_count": 9
        }
      ]
    },
    {
      "cell_type": "markdown",
      "source": [
        " **DATA CLEANING**"
      ],
      "metadata": {
        "id": "_SQwZVq2dD4h"
      }
    },
    {
      "cell_type": "markdown",
      "source": [
        "# **DATA PREPROCESSING**"
      ],
      "metadata": {
        "id": "_uXIqTtydWqK"
      }
    },
    {
      "cell_type": "markdown",
      "source": [
        "# Fraud Detection"
      ],
      "metadata": {
        "id": "yFCY_xXdhY6D"
      }
    },
    {
      "cell_type": "code",
      "source": [
        "data_fraud_df = fraud_df.iloc[:, [6, 11, 18, 21, 28]]\n",
        "data_fraud_df"
      ],
      "metadata": {
        "id": "WNuNupxvhc3_",
        "colab": {
          "base_uri": "https://localhost:8080/",
          "height": 424
        },
        "outputId": "897ec3b5-982d-427d-d789-ec44652bfde0"
      },
      "execution_count": null,
      "outputs": [
        {
          "output_type": "execute_result",
          "data": {
            "text/plain": [
              "               merchantName  merchantCategoryCode transactionType  \\\n",
              "0                      Uber             rideshare        PURCHASE   \n",
              "1               AMC #191138         entertainment        PURCHASE   \n",
              "2                Play Store            mobileapps        PURCHASE   \n",
              "3                Play Store            mobileapps        PURCHASE   \n",
              "4       Tim Hortons #947751              fastfood        PURCHASE   \n",
              "...                     ...                   ...             ...   \n",
              "786358                 Lyft             rideshare        PURCHASE   \n",
              "786359             hulu.com  online_subscriptions        PURCHASE   \n",
              "786360                 Lyft             rideshare        PURCHASE   \n",
              "786361          walmart.com         online_retail        PURCHASE   \n",
              "786362                 Uber             rideshare        PURCHASE   \n",
              "\n",
              "       merchantCity  isFraud  \n",
              "0                      False  \n",
              "1                      False  \n",
              "2                      False  \n",
              "3                      False  \n",
              "4                      False  \n",
              "...             ...      ...  \n",
              "786358                 False  \n",
              "786359                 False  \n",
              "786360                 False  \n",
              "786361                 False  \n",
              "786362                 False  \n",
              "\n",
              "[786363 rows x 5 columns]"
            ],
            "text/html": [
              "\n",
              "  <div id=\"df-9d5c956c-2d2a-4cca-b374-972d284d2d39\">\n",
              "    <div class=\"colab-df-container\">\n",
              "      <div>\n",
              "<style scoped>\n",
              "    .dataframe tbody tr th:only-of-type {\n",
              "        vertical-align: middle;\n",
              "    }\n",
              "\n",
              "    .dataframe tbody tr th {\n",
              "        vertical-align: top;\n",
              "    }\n",
              "\n",
              "    .dataframe thead th {\n",
              "        text-align: right;\n",
              "    }\n",
              "</style>\n",
              "<table border=\"1\" class=\"dataframe\">\n",
              "  <thead>\n",
              "    <tr style=\"text-align: right;\">\n",
              "      <th></th>\n",
              "      <th>merchantName</th>\n",
              "      <th>merchantCategoryCode</th>\n",
              "      <th>transactionType</th>\n",
              "      <th>merchantCity</th>\n",
              "      <th>isFraud</th>\n",
              "    </tr>\n",
              "  </thead>\n",
              "  <tbody>\n",
              "    <tr>\n",
              "      <th>0</th>\n",
              "      <td>Uber</td>\n",
              "      <td>rideshare</td>\n",
              "      <td>PURCHASE</td>\n",
              "      <td></td>\n",
              "      <td>False</td>\n",
              "    </tr>\n",
              "    <tr>\n",
              "      <th>1</th>\n",
              "      <td>AMC #191138</td>\n",
              "      <td>entertainment</td>\n",
              "      <td>PURCHASE</td>\n",
              "      <td></td>\n",
              "      <td>False</td>\n",
              "    </tr>\n",
              "    <tr>\n",
              "      <th>2</th>\n",
              "      <td>Play Store</td>\n",
              "      <td>mobileapps</td>\n",
              "      <td>PURCHASE</td>\n",
              "      <td></td>\n",
              "      <td>False</td>\n",
              "    </tr>\n",
              "    <tr>\n",
              "      <th>3</th>\n",
              "      <td>Play Store</td>\n",
              "      <td>mobileapps</td>\n",
              "      <td>PURCHASE</td>\n",
              "      <td></td>\n",
              "      <td>False</td>\n",
              "    </tr>\n",
              "    <tr>\n",
              "      <th>4</th>\n",
              "      <td>Tim Hortons #947751</td>\n",
              "      <td>fastfood</td>\n",
              "      <td>PURCHASE</td>\n",
              "      <td></td>\n",
              "      <td>False</td>\n",
              "    </tr>\n",
              "    <tr>\n",
              "      <th>...</th>\n",
              "      <td>...</td>\n",
              "      <td>...</td>\n",
              "      <td>...</td>\n",
              "      <td>...</td>\n",
              "      <td>...</td>\n",
              "    </tr>\n",
              "    <tr>\n",
              "      <th>786358</th>\n",
              "      <td>Lyft</td>\n",
              "      <td>rideshare</td>\n",
              "      <td>PURCHASE</td>\n",
              "      <td></td>\n",
              "      <td>False</td>\n",
              "    </tr>\n",
              "    <tr>\n",
              "      <th>786359</th>\n",
              "      <td>hulu.com</td>\n",
              "      <td>online_subscriptions</td>\n",
              "      <td>PURCHASE</td>\n",
              "      <td></td>\n",
              "      <td>False</td>\n",
              "    </tr>\n",
              "    <tr>\n",
              "      <th>786360</th>\n",
              "      <td>Lyft</td>\n",
              "      <td>rideshare</td>\n",
              "      <td>PURCHASE</td>\n",
              "      <td></td>\n",
              "      <td>False</td>\n",
              "    </tr>\n",
              "    <tr>\n",
              "      <th>786361</th>\n",
              "      <td>walmart.com</td>\n",
              "      <td>online_retail</td>\n",
              "      <td>PURCHASE</td>\n",
              "      <td></td>\n",
              "      <td>False</td>\n",
              "    </tr>\n",
              "    <tr>\n",
              "      <th>786362</th>\n",
              "      <td>Uber</td>\n",
              "      <td>rideshare</td>\n",
              "      <td>PURCHASE</td>\n",
              "      <td></td>\n",
              "      <td>False</td>\n",
              "    </tr>\n",
              "  </tbody>\n",
              "</table>\n",
              "<p>786363 rows × 5 columns</p>\n",
              "</div>\n",
              "      <button class=\"colab-df-convert\" onclick=\"convertToInteractive('df-9d5c956c-2d2a-4cca-b374-972d284d2d39')\"\n",
              "              title=\"Convert this dataframe to an interactive table.\"\n",
              "              style=\"display:none;\">\n",
              "        \n",
              "  <svg xmlns=\"http://www.w3.org/2000/svg\" height=\"24px\"viewBox=\"0 0 24 24\"\n",
              "       width=\"24px\">\n",
              "    <path d=\"M0 0h24v24H0V0z\" fill=\"none\"/>\n",
              "    <path d=\"M18.56 5.44l.94 2.06.94-2.06 2.06-.94-2.06-.94-.94-2.06-.94 2.06-2.06.94zm-11 1L8.5 8.5l.94-2.06 2.06-.94-2.06-.94L8.5 2.5l-.94 2.06-2.06.94zm10 10l.94 2.06.94-2.06 2.06-.94-2.06-.94-.94-2.06-.94 2.06-2.06.94z\"/><path d=\"M17.41 7.96l-1.37-1.37c-.4-.4-.92-.59-1.43-.59-.52 0-1.04.2-1.43.59L10.3 9.45l-7.72 7.72c-.78.78-.78 2.05 0 2.83L4 21.41c.39.39.9.59 1.41.59.51 0 1.02-.2 1.41-.59l7.78-7.78 2.81-2.81c.8-.78.8-2.07 0-2.86zM5.41 20L4 18.59l7.72-7.72 1.47 1.35L5.41 20z\"/>\n",
              "  </svg>\n",
              "      </button>\n",
              "      \n",
              "  <style>\n",
              "    .colab-df-container {\n",
              "      display:flex;\n",
              "      flex-wrap:wrap;\n",
              "      gap: 12px;\n",
              "    }\n",
              "\n",
              "    .colab-df-convert {\n",
              "      background-color: #E8F0FE;\n",
              "      border: none;\n",
              "      border-radius: 50%;\n",
              "      cursor: pointer;\n",
              "      display: none;\n",
              "      fill: #1967D2;\n",
              "      height: 32px;\n",
              "      padding: 0 0 0 0;\n",
              "      width: 32px;\n",
              "    }\n",
              "\n",
              "    .colab-df-convert:hover {\n",
              "      background-color: #E2EBFA;\n",
              "      box-shadow: 0px 1px 2px rgba(60, 64, 67, 0.3), 0px 1px 3px 1px rgba(60, 64, 67, 0.15);\n",
              "      fill: #174EA6;\n",
              "    }\n",
              "\n",
              "    [theme=dark] .colab-df-convert {\n",
              "      background-color: #3B4455;\n",
              "      fill: #D2E3FC;\n",
              "    }\n",
              "\n",
              "    [theme=dark] .colab-df-convert:hover {\n",
              "      background-color: #434B5C;\n",
              "      box-shadow: 0px 1px 3px 1px rgba(0, 0, 0, 0.15);\n",
              "      filter: drop-shadow(0px 1px 2px rgba(0, 0, 0, 0.3));\n",
              "      fill: #FFFFFF;\n",
              "    }\n",
              "  </style>\n",
              "\n",
              "      <script>\n",
              "        const buttonEl =\n",
              "          document.querySelector('#df-9d5c956c-2d2a-4cca-b374-972d284d2d39 button.colab-df-convert');\n",
              "        buttonEl.style.display =\n",
              "          google.colab.kernel.accessAllowed ? 'block' : 'none';\n",
              "\n",
              "        async function convertToInteractive(key) {\n",
              "          const element = document.querySelector('#df-9d5c956c-2d2a-4cca-b374-972d284d2d39');\n",
              "          const dataTable =\n",
              "            await google.colab.kernel.invokeFunction('convertToInteractive',\n",
              "                                                     [key], {});\n",
              "          if (!dataTable) return;\n",
              "\n",
              "          const docLinkHtml = 'Like what you see? Visit the ' +\n",
              "            '<a target=\"_blank\" href=https://colab.research.google.com/notebooks/data_table.ipynb>data table notebook</a>'\n",
              "            + ' to learn more about interactive tables.';\n",
              "          element.innerHTML = '';\n",
              "          dataTable['output_type'] = 'display_data';\n",
              "          await google.colab.output.renderOutput(dataTable, element);\n",
              "          const docLink = document.createElement('div');\n",
              "          docLink.innerHTML = docLinkHtml;\n",
              "          element.appendChild(docLink);\n",
              "        }\n",
              "      </script>\n",
              "    </div>\n",
              "  </div>\n",
              "  "
            ]
          },
          "metadata": {},
          "execution_count": 7
        }
      ]
    },
    {
      "cell_type": "markdown",
      "source": [
        "Labelling Fraud DF"
      ],
      "metadata": {
        "id": "JnORriBTpCDb"
      }
    },
    {
      "cell_type": "code",
      "source": [
        "le = LabelEncoder()\n",
        "# data_fraud_df['transactionType'] = le.fit_transform(data_fraud_df['transactionType'])\n",
        "# trans_type_info = dict(zip(le.classes_, le.transform(le.classes_)))\n",
        "\n",
        "# data_fraud_df['merchantCategoryCode'] = le.fit_transform(data_fraud_df['merchantCategoryCode'])\n",
        "# merchant_cat_info = dict(enumerate(le.classes_, 0))\n",
        "\n",
        "data_fraud_df['isFraud'] = le.fit_transform(data_fraud_df['isFraud'])\n",
        "is_Fraud_info = dict(enumerate(le.classes_, 0))"
      ],
      "metadata": {
        "id": "lBekS2ZSpEh8",
        "colab": {
          "base_uri": "https://localhost:8080/"
        },
        "outputId": "b6e0784a-aab2-443d-a5cf-90ac44950119"
      },
      "execution_count": null,
      "outputs": [
        {
          "output_type": "stream",
          "name": "stderr",
          "text": [
            "<ipython-input-8-6e5ecdf226b6>:8: SettingWithCopyWarning: \n",
            "A value is trying to be set on a copy of a slice from a DataFrame.\n",
            "Try using .loc[row_indexer,col_indexer] = value instead\n",
            "\n",
            "See the caveats in the documentation: https://pandas.pydata.org/pandas-docs/stable/user_guide/indexing.html#returning-a-view-versus-a-copy\n",
            "  data_fraud_df['isFraud'] = le.fit_transform(data_fraud_df['isFraud'])\n"
          ]
        }
      ]
    },
    {
      "cell_type": "code",
      "source": [
        "print(is_Fraud_info)"
      ],
      "metadata": {
        "colab": {
          "base_uri": "https://localhost:8080/"
        },
        "id": "24kcEURiugMP",
        "outputId": "c24b7644-9b73-4488-b9bb-6561ba3713fb"
      },
      "execution_count": null,
      "outputs": [
        {
          "output_type": "stream",
          "name": "stdout",
          "text": [
            "{0: False, 1: True}\n"
          ]
        }
      ]
    },
    {
      "cell_type": "code",
      "source": [
        "# # remove #[num] in columns merchantName\n",
        "\n",
        "mn_removed = data_fraud_df['merchantName'].str.replace(r\"#\\d+$\", \"\")\n",
        "data_fraud_df['merchantName'] = mn_removed\n",
        "data_fraud_df['merchantName']"
      ],
      "metadata": {
        "colab": {
          "base_uri": "https://localhost:8080/"
        },
        "id": "iX90D4QRb2m-",
        "outputId": "66e1fd54-a687-4ee9-f708-a3899eac074f"
      },
      "execution_count": null,
      "outputs": [
        {
          "output_type": "stream",
          "name": "stderr",
          "text": [
            "<ipython-input-10-3afcee6bee5b>:3: FutureWarning: The default value of regex will change from True to False in a future version.\n",
            "  mn_removed = data_fraud_df['merchantName'].str.replace(r\"#\\d+$\", \"\")\n",
            "<ipython-input-10-3afcee6bee5b>:4: SettingWithCopyWarning: \n",
            "A value is trying to be set on a copy of a slice from a DataFrame.\n",
            "Try using .loc[row_indexer,col_indexer] = value instead\n",
            "\n",
            "See the caveats in the documentation: https://pandas.pydata.org/pandas-docs/stable/user_guide/indexing.html#returning-a-view-versus-a-copy\n",
            "  data_fraud_df['merchantName'] = mn_removed\n"
          ]
        },
        {
          "output_type": "execute_result",
          "data": {
            "text/plain": [
              "0                 Uber\n",
              "1                 AMC \n",
              "2           Play Store\n",
              "3           Play Store\n",
              "4         Tim Hortons \n",
              "              ...     \n",
              "786358            Lyft\n",
              "786359        hulu.com\n",
              "786360            Lyft\n",
              "786361     walmart.com\n",
              "786362            Uber\n",
              "Name: merchantName, Length: 786363, dtype: object"
            ]
          },
          "metadata": {},
          "execution_count": 10
        }
      ]
    },
    {
      "cell_type": "code",
      "source": [
        "mn_col = data_fraud_df['merchantName']\n",
        "list_city = ['Surabaya', 'Jakarta', 'Bandung', 'Yogyakarta', 'Medan', 'Semarang', 'Makassar', 'Denpasar', 'Lombok', 'Balikpapan', 'Aceh', 'Serang', 'Pontianak', 'Gorontalo', 'Mamuju']\n",
        "\n",
        "new_constraint_data = {merchant_city:random.choice(list_city) for merchant_city in mn_col}\n",
        "new_merchant_city = [new_constraint_data[merchant_city] for merchant_city in data_fraud_df['merchantName']]\n",
        "\n",
        "data_fraud_df['merchantCity'] = new_merchant_city  # timpa data merchant city"
      ],
      "metadata": {
        "id": "6U0hXcNE4-C9",
        "colab": {
          "base_uri": "https://localhost:8080/"
        },
        "outputId": "e03b03de-1960-4d02-947d-b471fda21f17"
      },
      "execution_count": null,
      "outputs": [
        {
          "output_type": "stream",
          "name": "stderr",
          "text": [
            "<ipython-input-70-d81f14412a6c>:7: SettingWithCopyWarning: \n",
            "A value is trying to be set on a copy of a slice from a DataFrame.\n",
            "Try using .loc[row_indexer,col_indexer] = value instead\n",
            "\n",
            "See the caveats in the documentation: https://pandas.pydata.org/pandas-docs/stable/user_guide/indexing.html#returning-a-view-versus-a-copy\n",
            "  data_fraud_df['merchantCity'] = new_merchant_city  # timpa data merchant city\n"
          ]
        }
      ]
    },
    {
      "cell_type": "code",
      "source": [
        "print(new_constraint_data)"
      ],
      "metadata": {
        "colab": {
          "base_uri": "https://localhost:8080/"
        },
        "id": "_O9ofNqK2x2J",
        "outputId": "58178a4c-bb30-4f92-c534-c12d7f92f9cb"
      },
      "execution_count": null,
      "outputs": [
        {
          "output_type": "stream",
          "name": "stdout",
          "text": [
            "{'Uber': 'Makassar', 'AMC ': 'Lombok', 'Play Store': 'Surabaya', 'Tim Hortons ': 'Medan', 'In-N-Out ': 'Pontianak', 'Krispy Kreme ': 'Gorontalo', 'Shake Shack ': 'Lombok', 'Burger King ': 'Gorontalo', 'Five Guys ': 'Mamuju', \"Auntie Anne's \": 'Denpasar', 'GreenCook': 'Semarang', 'Washington Repair': 'Serang', 'Eazy Tire': 'Gorontalo', 'Convenient Auto Services': 'Semarang', 'Shell Auto Body': 'Pontianak', 'Fast Auto Services': 'Jakarta', 'staples.com': 'Aceh', 'Convenient Repair': 'Mamuju', 'Shell Repair': 'Jakarta', 'Eazy Repair': 'Mamuju', 'Fast Repair': 'Makassar', 'Eazy Auto Body': 'Balikpapan', 'Washington Tire': 'Medan', 'target.com': 'Yogyakarta', 'Convenient Tire': 'Serang', 'amazon.com': 'Mamuju', 'Shell Tire': 'Pontianak', 'Merchants Auto Body': 'Surabaya', 'gap.com': 'Denpasar', 'Fast Tire': 'Makassar', 'sears.com': 'Denpasar', 'apple.com': 'Mamuju', 'Merchants Tire': 'Makassar', 'Ricks Auto Body': 'Surabaya', 'Merchants Auto Services': 'Balikpapan', 'Curves ': 'Aceh', 'oldnavy.com': 'Jakarta', 'Washington Auto Body': 'Surabaya', 'ebay.com': 'Yogyakarta', 'discount.com': 'Serang', 'alibaba.com': 'Pontianak', 'CVS ': 'Mamuju', 'Walgreens ': 'Serang', 'WSC ': 'Yogyakarta', 'Universe Massage ': 'Mamuju', 'Powerlifting ': 'Jakarta', '1st Sandwitch Bar ': 'Serang', 'NYSC ': 'Medan', 'Lyft': 'Yogyakarta', 'Planet Fitness ': 'Lombok', 'Golds Gym ': 'Pontianak', 'Boston Fries': 'Gorontalo', 'South Steakhouse ': 'Medan', '53rd Beauty': 'Medan', 'Regal Cinemas ': 'Lombok', \"John's Cafe\": 'Makassar', 'Rock Weights ': 'Gorontalo', 'Downtown BBQ': 'Denpasar', '34th Pub': 'Yogyakarta', 'EZ Putt Putt ': 'Gorontalo', 'Franks Sandwitch Bar': 'Pontianak', '53rd Spa': 'Jakarta', 'West End Beauty ': 'Serang', 'Franks Pub ': 'Bandung', \"Ray's Fries \": 'Makassar', 'Uptown Diner': 'Bandung', 'Uptown BBQ': 'Jakarta', '53rd Massage': 'Denpasar', '1st Deli': 'Bandung', 'Downtown Diner': 'Denpasar', 'Dinosaur Restaurant': 'Aceh', 'Texas Gas ': 'Semarang', '34th BBQ ': 'Bandung', 'Northtown Salon': 'Denpasar', 'Downtown Sandwitch Bar': 'Aceh', 'Best Deli ': 'Bandung', 'Boston Cafe ': 'Balikpapan', 'Annies Fries': 'Pontianak', 'cheapfast.com': 'Denpasar', 'Uptown Steakhouse': 'Pontianak', 'walmart.com': 'Aceh', '1st Restaurant': 'Mamuju', 'South BBQ': 'Serang', 'Spotify': 'Semarang', 'abc.com': 'Mamuju', 'Taco Bell ': 'Serang', 'Northtown Massage': 'Bandung', \"Quizno's \": 'Lombok', 'Cinnabon ': 'Mamuju', 'Subway ': 'Yogyakarta', \"Domino's Pizza \": 'Balikpapan', 'Wendys ': 'Mamuju', 'Popeyes ': 'Serang', 'Dairy Queen ': 'Lombok', 'KFC ': 'Pontianak', 'Pizza Hut ': 'Pontianak', \"Dunkin' Donuts \": 'Makassar', 'Boston Pub': 'Serang', 'Arbys ': 'Semarang', 'McDonalds ': 'Bandung', \"Hardee's \": 'Yogyakarta', 'Franks Restaurant': 'Surabaya', 'Northtown Beauty': 'Balikpapan', 'Dinosaur Fries': 'Medan', 'Starbucks ': 'Denpasar', 'West End Massage': 'Jakarta', 'Uptown Fries': 'Denpasar', 'Dinosaur Sandwitch Bar ': 'Medan', 'Apple iTunes': 'Balikpapan', 'Next Day Online Services': 'Mamuju', 'Blue Mountain eCards': 'Serang', 'NY BBQ': 'Makassar', '1st BBQ': 'Aceh', 'Hilton Hotels ': 'Aceh', 'Dinosaur Drive in': 'Jakarta', 'Best Bistro ': 'Aceh', 'Renaissance Hotel ': 'Bandung', 'Rodeway Inn ': 'Makassar', 'Franks Deli': 'Surabaya', 'Icelandic Airlines': 'Lombok', 'American Airlines': 'Pontianak', 'Delta Airlines': 'Makassar', 'Virgin Airlines': 'Jakarta', 'United Airlines': 'Jakarta', 'Fresh Online Services': 'Serang', 'Ricks Repair': 'Balikpapan', 'Fresh Flowers': 'Aceh', 'Blue Mountain Online Services': 'Semarang', 'Fresh eCards': 'Mamuju', 'Next Day eCards': 'Lombok', 'hulu.com': 'Surabaya', 'netflix.com': 'Jakarta', 'Shell Gas ': 'Yogyakarta', 'ethanallen.com': 'Balikpapan', 'Wayfair.com': 'Bandung', 'Rove Concepts': 'Mamuju', 'pottery-barn.com': 'Gorontalo', 'South Sandwitch Bar': 'Semarang', 'South Drive in': 'Pontianak', '1st Pub': 'Gorontalo', \"John's Bistro\": 'Gorontalo', 'Boston Diner': 'Semarang', 'Uptown Cafe': 'Jakarta', 'Franks Cafe': 'Gorontalo', 'LES Pizza': 'Medan', 'Boston Bistro': 'Jakarta', 'South Restaurant': 'Denpasar', 'NY Deli': 'Semarang', 'Sunoco Gas ': 'Semarang', 'Dallas Post': 'Medan', 'Washington News': 'Denpasar', 'Washington Times': 'Denpasar', 'Dallas Journal': 'Lombok', 'Wall Street Times': 'Lombok', 'Seattle News': 'Lombok', 'Washington Post': 'Yogyakarta', 'Wall Street News': 'Medan', 'San Francisco Post': 'Medan', 'Los Angeles News': 'Aceh', 'Oklahoma City Times': 'Surabaya', 'Oklahoma City Post': 'Bandung', 'Seattle Times': 'Bandung', 'NY News': 'Denpasar', 'Chicago News': 'Makassar', '34th Diner': 'Lombok', 'Hyatt House ': 'Lombok', 'Mobile eCards': 'Balikpapan', 'Downtown Pub': 'Balikpapan', '34th Bistro': 'Mamuju', 'Best Fries': 'Medan', 'Best Pub': 'Serang', 'Mobil Gas ': 'Lombok', 'South Cafe': 'Gorontalo', 'Aloft': 'Yogyakarta', 'Holiday Inn': 'Gorontalo', 'Virgin ': 'Aceh', 'ashleyfurniture.com': 'Jakarta', 'Bobs Furniture': 'Jakarta', 'Raymour Flanigan': 'Yogyakarta', 'Williams Sonoma': 'Makassar', '86th Massage': 'Pontianak', 'Minneapolis News': 'Surabaya', 'Pottery Barn': 'Bandung', 'ikea.com': 'Mamuju', 'Ethan Allen': 'Pontianak', 'Ashley Furniture': 'Aceh', 'West Elm': 'Balikpapan', 'TMobile Wireless ': 'Balikpapan', 'westelm.com': 'Jakarta', 'williamssonoma.com': 'Lombok', 'Runners ': 'Lombok', 'Marriott Hotels': 'Aceh', 'Daily Fresh': 'Serang', 'Sprint PCS ': 'Serang', 'MyApron': 'Surabaya', 'Fast Mobile ': 'Makassar', 'EZ Wireless ': 'Yogyakarta', 'DailyOmnivore': 'Pontianak', 'Sprint Communications ': 'Gorontalo', 'Duane Reed ': 'Balikpapan', 'Barbells ': 'Lombok', 'Boost Mobile ': 'Aceh', 'Verizon Wireless ': 'Balikpapan', 'ATT ': 'Makassar', 'My Fitness': 'Semarang'}\n"
          ]
        }
      ]
    },
    {
      "cell_type": "code",
      "source": [
        "data_fraud_df"
      ],
      "metadata": {
        "colab": {
          "base_uri": "https://localhost:8080/",
          "height": 424
        },
        "id": "u6Q5cz9Lvdix",
        "outputId": "eff6c65f-daf6-46d3-a60d-42a95e88f61a"
      },
      "execution_count": null,
      "outputs": [
        {
          "output_type": "execute_result",
          "data": {
            "text/plain": [
              "        merchantName  merchantCategoryCode transactionType merchantCity  \\\n",
              "0               Uber             rideshare        PURCHASE     Makassar   \n",
              "1               AMC          entertainment        PURCHASE       Lombok   \n",
              "2         Play Store            mobileapps        PURCHASE     Surabaya   \n",
              "3         Play Store            mobileapps        PURCHASE     Surabaya   \n",
              "4       Tim Hortons               fastfood        PURCHASE        Medan   \n",
              "...              ...                   ...             ...          ...   \n",
              "786358          Lyft             rideshare        PURCHASE   Yogyakarta   \n",
              "786359      hulu.com  online_subscriptions        PURCHASE     Surabaya   \n",
              "786360          Lyft             rideshare        PURCHASE   Yogyakarta   \n",
              "786361   walmart.com         online_retail        PURCHASE         Aceh   \n",
              "786362          Uber             rideshare        PURCHASE     Makassar   \n",
              "\n",
              "        isFraud  \n",
              "0             0  \n",
              "1             0  \n",
              "2             0  \n",
              "3             0  \n",
              "4             0  \n",
              "...         ...  \n",
              "786358        0  \n",
              "786359        0  \n",
              "786360        0  \n",
              "786361        0  \n",
              "786362        0  \n",
              "\n",
              "[786363 rows x 5 columns]"
            ],
            "text/html": [
              "\n",
              "  <div id=\"df-069ef1c4-1f1a-4741-bc0c-d5774ea6d6ad\">\n",
              "    <div class=\"colab-df-container\">\n",
              "      <div>\n",
              "<style scoped>\n",
              "    .dataframe tbody tr th:only-of-type {\n",
              "        vertical-align: middle;\n",
              "    }\n",
              "\n",
              "    .dataframe tbody tr th {\n",
              "        vertical-align: top;\n",
              "    }\n",
              "\n",
              "    .dataframe thead th {\n",
              "        text-align: right;\n",
              "    }\n",
              "</style>\n",
              "<table border=\"1\" class=\"dataframe\">\n",
              "  <thead>\n",
              "    <tr style=\"text-align: right;\">\n",
              "      <th></th>\n",
              "      <th>merchantName</th>\n",
              "      <th>merchantCategoryCode</th>\n",
              "      <th>transactionType</th>\n",
              "      <th>merchantCity</th>\n",
              "      <th>isFraud</th>\n",
              "    </tr>\n",
              "  </thead>\n",
              "  <tbody>\n",
              "    <tr>\n",
              "      <th>0</th>\n",
              "      <td>Uber</td>\n",
              "      <td>rideshare</td>\n",
              "      <td>PURCHASE</td>\n",
              "      <td>Makassar</td>\n",
              "      <td>0</td>\n",
              "    </tr>\n",
              "    <tr>\n",
              "      <th>1</th>\n",
              "      <td>AMC</td>\n",
              "      <td>entertainment</td>\n",
              "      <td>PURCHASE</td>\n",
              "      <td>Lombok</td>\n",
              "      <td>0</td>\n",
              "    </tr>\n",
              "    <tr>\n",
              "      <th>2</th>\n",
              "      <td>Play Store</td>\n",
              "      <td>mobileapps</td>\n",
              "      <td>PURCHASE</td>\n",
              "      <td>Surabaya</td>\n",
              "      <td>0</td>\n",
              "    </tr>\n",
              "    <tr>\n",
              "      <th>3</th>\n",
              "      <td>Play Store</td>\n",
              "      <td>mobileapps</td>\n",
              "      <td>PURCHASE</td>\n",
              "      <td>Surabaya</td>\n",
              "      <td>0</td>\n",
              "    </tr>\n",
              "    <tr>\n",
              "      <th>4</th>\n",
              "      <td>Tim Hortons</td>\n",
              "      <td>fastfood</td>\n",
              "      <td>PURCHASE</td>\n",
              "      <td>Medan</td>\n",
              "      <td>0</td>\n",
              "    </tr>\n",
              "    <tr>\n",
              "      <th>...</th>\n",
              "      <td>...</td>\n",
              "      <td>...</td>\n",
              "      <td>...</td>\n",
              "      <td>...</td>\n",
              "      <td>...</td>\n",
              "    </tr>\n",
              "    <tr>\n",
              "      <th>786358</th>\n",
              "      <td>Lyft</td>\n",
              "      <td>rideshare</td>\n",
              "      <td>PURCHASE</td>\n",
              "      <td>Yogyakarta</td>\n",
              "      <td>0</td>\n",
              "    </tr>\n",
              "    <tr>\n",
              "      <th>786359</th>\n",
              "      <td>hulu.com</td>\n",
              "      <td>online_subscriptions</td>\n",
              "      <td>PURCHASE</td>\n",
              "      <td>Surabaya</td>\n",
              "      <td>0</td>\n",
              "    </tr>\n",
              "    <tr>\n",
              "      <th>786360</th>\n",
              "      <td>Lyft</td>\n",
              "      <td>rideshare</td>\n",
              "      <td>PURCHASE</td>\n",
              "      <td>Yogyakarta</td>\n",
              "      <td>0</td>\n",
              "    </tr>\n",
              "    <tr>\n",
              "      <th>786361</th>\n",
              "      <td>walmart.com</td>\n",
              "      <td>online_retail</td>\n",
              "      <td>PURCHASE</td>\n",
              "      <td>Aceh</td>\n",
              "      <td>0</td>\n",
              "    </tr>\n",
              "    <tr>\n",
              "      <th>786362</th>\n",
              "      <td>Uber</td>\n",
              "      <td>rideshare</td>\n",
              "      <td>PURCHASE</td>\n",
              "      <td>Makassar</td>\n",
              "      <td>0</td>\n",
              "    </tr>\n",
              "  </tbody>\n",
              "</table>\n",
              "<p>786363 rows × 5 columns</p>\n",
              "</div>\n",
              "      <button class=\"colab-df-convert\" onclick=\"convertToInteractive('df-069ef1c4-1f1a-4741-bc0c-d5774ea6d6ad')\"\n",
              "              title=\"Convert this dataframe to an interactive table.\"\n",
              "              style=\"display:none;\">\n",
              "        \n",
              "  <svg xmlns=\"http://www.w3.org/2000/svg\" height=\"24px\"viewBox=\"0 0 24 24\"\n",
              "       width=\"24px\">\n",
              "    <path d=\"M0 0h24v24H0V0z\" fill=\"none\"/>\n",
              "    <path d=\"M18.56 5.44l.94 2.06.94-2.06 2.06-.94-2.06-.94-.94-2.06-.94 2.06-2.06.94zm-11 1L8.5 8.5l.94-2.06 2.06-.94-2.06-.94L8.5 2.5l-.94 2.06-2.06.94zm10 10l.94 2.06.94-2.06 2.06-.94-2.06-.94-.94-2.06-.94 2.06-2.06.94z\"/><path d=\"M17.41 7.96l-1.37-1.37c-.4-.4-.92-.59-1.43-.59-.52 0-1.04.2-1.43.59L10.3 9.45l-7.72 7.72c-.78.78-.78 2.05 0 2.83L4 21.41c.39.39.9.59 1.41.59.51 0 1.02-.2 1.41-.59l7.78-7.78 2.81-2.81c.8-.78.8-2.07 0-2.86zM5.41 20L4 18.59l7.72-7.72 1.47 1.35L5.41 20z\"/>\n",
              "  </svg>\n",
              "      </button>\n",
              "      \n",
              "  <style>\n",
              "    .colab-df-container {\n",
              "      display:flex;\n",
              "      flex-wrap:wrap;\n",
              "      gap: 12px;\n",
              "    }\n",
              "\n",
              "    .colab-df-convert {\n",
              "      background-color: #E8F0FE;\n",
              "      border: none;\n",
              "      border-radius: 50%;\n",
              "      cursor: pointer;\n",
              "      display: none;\n",
              "      fill: #1967D2;\n",
              "      height: 32px;\n",
              "      padding: 0 0 0 0;\n",
              "      width: 32px;\n",
              "    }\n",
              "\n",
              "    .colab-df-convert:hover {\n",
              "      background-color: #E2EBFA;\n",
              "      box-shadow: 0px 1px 2px rgba(60, 64, 67, 0.3), 0px 1px 3px 1px rgba(60, 64, 67, 0.15);\n",
              "      fill: #174EA6;\n",
              "    }\n",
              "\n",
              "    [theme=dark] .colab-df-convert {\n",
              "      background-color: #3B4455;\n",
              "      fill: #D2E3FC;\n",
              "    }\n",
              "\n",
              "    [theme=dark] .colab-df-convert:hover {\n",
              "      background-color: #434B5C;\n",
              "      box-shadow: 0px 1px 3px 1px rgba(0, 0, 0, 0.15);\n",
              "      filter: drop-shadow(0px 1px 2px rgba(0, 0, 0, 0.3));\n",
              "      fill: #FFFFFF;\n",
              "    }\n",
              "  </style>\n",
              "\n",
              "      <script>\n",
              "        const buttonEl =\n",
              "          document.querySelector('#df-069ef1c4-1f1a-4741-bc0c-d5774ea6d6ad button.colab-df-convert');\n",
              "        buttonEl.style.display =\n",
              "          google.colab.kernel.accessAllowed ? 'block' : 'none';\n",
              "\n",
              "        async function convertToInteractive(key) {\n",
              "          const element = document.querySelector('#df-069ef1c4-1f1a-4741-bc0c-d5774ea6d6ad');\n",
              "          const dataTable =\n",
              "            await google.colab.kernel.invokeFunction('convertToInteractive',\n",
              "                                                     [key], {});\n",
              "          if (!dataTable) return;\n",
              "\n",
              "          const docLinkHtml = 'Like what you see? Visit the ' +\n",
              "            '<a target=\"_blank\" href=https://colab.research.google.com/notebooks/data_table.ipynb>data table notebook</a>'\n",
              "            + ' to learn more about interactive tables.';\n",
              "          element.innerHTML = '';\n",
              "          dataTable['output_type'] = 'display_data';\n",
              "          await google.colab.output.renderOutput(dataTable, element);\n",
              "          const docLink = document.createElement('div');\n",
              "          docLink.innerHTML = docLinkHtml;\n",
              "          element.appendChild(docLink);\n",
              "        }\n",
              "      </script>\n",
              "    </div>\n",
              "  </div>\n",
              "  "
            ]
          },
          "metadata": {},
          "execution_count": 13
        }
      ]
    },
    {
      "cell_type": "code",
      "source": [
        "x_data = data_fraud_df.iloc[:, :-1]\n",
        "y_data = data_fraud_df.iloc[:, -1:]"
      ],
      "metadata": {
        "id": "Chi-2Iy6oojm"
      },
      "execution_count": null,
      "outputs": []
    },
    {
      "cell_type": "markdown",
      "source": [
        "ENCODING"
      ],
      "metadata": {
        "id": "KA5CCZn4al8I"
      }
    },
    {
      "cell_type": "code",
      "source": [
        "# encoded = pd.get_dummies(x_data['merchantCity'])\n",
        "# new_encoded_col_city = dict(enumerate(encoded, 1))\n",
        "# new_encoded_col_city = {y: x for x, y in new_encoded_col_city.items()} #transformasi kolom jadi baris  ## switching keys and values  #\n",
        "# encoded = encoded.rename(columns = new_encoded_col_city)\n",
        "# x_encoded = pd.concat([x_data.iloc[:, :-1], encoded], axis=1)\n",
        "# x_encoded"
      ],
      "metadata": {
        "id": "OG2UNdvQapUn"
      },
      "execution_count": null,
      "outputs": []
    },
    {
      "cell_type": "code",
      "source": [
        "# optional kalau mau labeling merchantName\n",
        "# x_encoded_label = x_encoded.groupby('merchantName').ngroup()  # ----> keywords: pandas.core.groupby.GroupBy.ngroup()\n",
        "# x_encoded['merchantName'] = x_encoded_label\n",
        "# x_encoded"
      ],
      "metadata": {
        "id": "GcN89Yx3k4Rq"
      },
      "execution_count": null,
      "outputs": []
    },
    {
      "cell_type": "code",
      "source": [
        "x_data['merchantCity']"
      ],
      "metadata": {
        "colab": {
          "base_uri": "https://localhost:8080/"
        },
        "id": "x5ACwM8L6LWQ",
        "outputId": "5b52a03f-b209-4416-9529-0b8a56153742"
      },
      "execution_count": null,
      "outputs": [
        {
          "output_type": "execute_result",
          "data": {
            "text/plain": [
              "0            Jakarta\n",
              "1         Yogyakarta\n",
              "2           Semarang\n",
              "3           Semarang\n",
              "4              Medan\n",
              "             ...    \n",
              "786358        Mamuju\n",
              "786359      Surabaya\n",
              "786360        Mamuju\n",
              "786361        Lombok\n",
              "786362       Jakarta\n",
              "Name: merchantCity, Length: 786363, dtype: object"
            ]
          },
          "metadata": {},
          "execution_count": 18
        }
      ]
    },
    {
      "cell_type": "markdown",
      "source": [
        "# On going event prediction"
      ],
      "metadata": {
        "id": "AF8y8fE2TTe_"
      }
    },
    {
      "cell_type": "code",
      "source": [
        "online_fraud = online_df.drop(['step', 'nameOrig', 'amount', 'nameDest', 'isFlaggedFraud'], axis=1)   #mengambil kolom2 yg dibutuhkan\n",
        "online_fraud"
      ],
      "metadata": {
        "colab": {
          "base_uri": "https://localhost:8080/",
          "height": 424
        },
        "id": "k1mAj9DjTafh",
        "outputId": "c71405c0-e4c3-4d7f-c59b-7a65c4950404"
      },
      "execution_count": null,
      "outputs": [
        {
          "output_type": "execute_result",
          "data": {
            "text/plain": [
              "             type  oldbalanceOrg  newbalanceOrig  oldbalanceDest  \\\n",
              "0         PAYMENT      170136.00       160296.36            0.00   \n",
              "1         PAYMENT       21249.00        19384.72            0.00   \n",
              "2        TRANSFER         181.00            0.00            0.00   \n",
              "3        CASH_OUT         181.00            0.00        21182.00   \n",
              "4         PAYMENT       41554.00        29885.86            0.00   \n",
              "...           ...            ...             ...             ...   \n",
              "6362615  CASH_OUT      339682.13            0.00            0.00   \n",
              "6362616  TRANSFER     6311409.28            0.00            0.00   \n",
              "6362617  CASH_OUT     6311409.28            0.00        68488.84   \n",
              "6362618  TRANSFER      850002.52            0.00            0.00   \n",
              "6362619  CASH_OUT      850002.52            0.00      6510099.11   \n",
              "\n",
              "         newbalanceDest  isFraud  \n",
              "0                  0.00        0  \n",
              "1                  0.00        0  \n",
              "2                  0.00        1  \n",
              "3                  0.00        1  \n",
              "4                  0.00        0  \n",
              "...                 ...      ...  \n",
              "6362615       339682.13        1  \n",
              "6362616            0.00        1  \n",
              "6362617      6379898.11        1  \n",
              "6362618            0.00        1  \n",
              "6362619      7360101.63        1  \n",
              "\n",
              "[6362620 rows x 6 columns]"
            ],
            "text/html": [
              "\n",
              "  <div id=\"df-e6893b23-ac15-49c0-bb55-843040987604\">\n",
              "    <div class=\"colab-df-container\">\n",
              "      <div>\n",
              "<style scoped>\n",
              "    .dataframe tbody tr th:only-of-type {\n",
              "        vertical-align: middle;\n",
              "    }\n",
              "\n",
              "    .dataframe tbody tr th {\n",
              "        vertical-align: top;\n",
              "    }\n",
              "\n",
              "    .dataframe thead th {\n",
              "        text-align: right;\n",
              "    }\n",
              "</style>\n",
              "<table border=\"1\" class=\"dataframe\">\n",
              "  <thead>\n",
              "    <tr style=\"text-align: right;\">\n",
              "      <th></th>\n",
              "      <th>type</th>\n",
              "      <th>oldbalanceOrg</th>\n",
              "      <th>newbalanceOrig</th>\n",
              "      <th>oldbalanceDest</th>\n",
              "      <th>newbalanceDest</th>\n",
              "      <th>isFraud</th>\n",
              "    </tr>\n",
              "  </thead>\n",
              "  <tbody>\n",
              "    <tr>\n",
              "      <th>0</th>\n",
              "      <td>PAYMENT</td>\n",
              "      <td>170136.00</td>\n",
              "      <td>160296.36</td>\n",
              "      <td>0.00</td>\n",
              "      <td>0.00</td>\n",
              "      <td>0</td>\n",
              "    </tr>\n",
              "    <tr>\n",
              "      <th>1</th>\n",
              "      <td>PAYMENT</td>\n",
              "      <td>21249.00</td>\n",
              "      <td>19384.72</td>\n",
              "      <td>0.00</td>\n",
              "      <td>0.00</td>\n",
              "      <td>0</td>\n",
              "    </tr>\n",
              "    <tr>\n",
              "      <th>2</th>\n",
              "      <td>TRANSFER</td>\n",
              "      <td>181.00</td>\n",
              "      <td>0.00</td>\n",
              "      <td>0.00</td>\n",
              "      <td>0.00</td>\n",
              "      <td>1</td>\n",
              "    </tr>\n",
              "    <tr>\n",
              "      <th>3</th>\n",
              "      <td>CASH_OUT</td>\n",
              "      <td>181.00</td>\n",
              "      <td>0.00</td>\n",
              "      <td>21182.00</td>\n",
              "      <td>0.00</td>\n",
              "      <td>1</td>\n",
              "    </tr>\n",
              "    <tr>\n",
              "      <th>4</th>\n",
              "      <td>PAYMENT</td>\n",
              "      <td>41554.00</td>\n",
              "      <td>29885.86</td>\n",
              "      <td>0.00</td>\n",
              "      <td>0.00</td>\n",
              "      <td>0</td>\n",
              "    </tr>\n",
              "    <tr>\n",
              "      <th>...</th>\n",
              "      <td>...</td>\n",
              "      <td>...</td>\n",
              "      <td>...</td>\n",
              "      <td>...</td>\n",
              "      <td>...</td>\n",
              "      <td>...</td>\n",
              "    </tr>\n",
              "    <tr>\n",
              "      <th>6362615</th>\n",
              "      <td>CASH_OUT</td>\n",
              "      <td>339682.13</td>\n",
              "      <td>0.00</td>\n",
              "      <td>0.00</td>\n",
              "      <td>339682.13</td>\n",
              "      <td>1</td>\n",
              "    </tr>\n",
              "    <tr>\n",
              "      <th>6362616</th>\n",
              "      <td>TRANSFER</td>\n",
              "      <td>6311409.28</td>\n",
              "      <td>0.00</td>\n",
              "      <td>0.00</td>\n",
              "      <td>0.00</td>\n",
              "      <td>1</td>\n",
              "    </tr>\n",
              "    <tr>\n",
              "      <th>6362617</th>\n",
              "      <td>CASH_OUT</td>\n",
              "      <td>6311409.28</td>\n",
              "      <td>0.00</td>\n",
              "      <td>68488.84</td>\n",
              "      <td>6379898.11</td>\n",
              "      <td>1</td>\n",
              "    </tr>\n",
              "    <tr>\n",
              "      <th>6362618</th>\n",
              "      <td>TRANSFER</td>\n",
              "      <td>850002.52</td>\n",
              "      <td>0.00</td>\n",
              "      <td>0.00</td>\n",
              "      <td>0.00</td>\n",
              "      <td>1</td>\n",
              "    </tr>\n",
              "    <tr>\n",
              "      <th>6362619</th>\n",
              "      <td>CASH_OUT</td>\n",
              "      <td>850002.52</td>\n",
              "      <td>0.00</td>\n",
              "      <td>6510099.11</td>\n",
              "      <td>7360101.63</td>\n",
              "      <td>1</td>\n",
              "    </tr>\n",
              "  </tbody>\n",
              "</table>\n",
              "<p>6362620 rows × 6 columns</p>\n",
              "</div>\n",
              "      <button class=\"colab-df-convert\" onclick=\"convertToInteractive('df-e6893b23-ac15-49c0-bb55-843040987604')\"\n",
              "              title=\"Convert this dataframe to an interactive table.\"\n",
              "              style=\"display:none;\">\n",
              "        \n",
              "  <svg xmlns=\"http://www.w3.org/2000/svg\" height=\"24px\"viewBox=\"0 0 24 24\"\n",
              "       width=\"24px\">\n",
              "    <path d=\"M0 0h24v24H0V0z\" fill=\"none\"/>\n",
              "    <path d=\"M18.56 5.44l.94 2.06.94-2.06 2.06-.94-2.06-.94-.94-2.06-.94 2.06-2.06.94zm-11 1L8.5 8.5l.94-2.06 2.06-.94-2.06-.94L8.5 2.5l-.94 2.06-2.06.94zm10 10l.94 2.06.94-2.06 2.06-.94-2.06-.94-.94-2.06-.94 2.06-2.06.94z\"/><path d=\"M17.41 7.96l-1.37-1.37c-.4-.4-.92-.59-1.43-.59-.52 0-1.04.2-1.43.59L10.3 9.45l-7.72 7.72c-.78.78-.78 2.05 0 2.83L4 21.41c.39.39.9.59 1.41.59.51 0 1.02-.2 1.41-.59l7.78-7.78 2.81-2.81c.8-.78.8-2.07 0-2.86zM5.41 20L4 18.59l7.72-7.72 1.47 1.35L5.41 20z\"/>\n",
              "  </svg>\n",
              "      </button>\n",
              "      \n",
              "  <style>\n",
              "    .colab-df-container {\n",
              "      display:flex;\n",
              "      flex-wrap:wrap;\n",
              "      gap: 12px;\n",
              "    }\n",
              "\n",
              "    .colab-df-convert {\n",
              "      background-color: #E8F0FE;\n",
              "      border: none;\n",
              "      border-radius: 50%;\n",
              "      cursor: pointer;\n",
              "      display: none;\n",
              "      fill: #1967D2;\n",
              "      height: 32px;\n",
              "      padding: 0 0 0 0;\n",
              "      width: 32px;\n",
              "    }\n",
              "\n",
              "    .colab-df-convert:hover {\n",
              "      background-color: #E2EBFA;\n",
              "      box-shadow: 0px 1px 2px rgba(60, 64, 67, 0.3), 0px 1px 3px 1px rgba(60, 64, 67, 0.15);\n",
              "      fill: #174EA6;\n",
              "    }\n",
              "\n",
              "    [theme=dark] .colab-df-convert {\n",
              "      background-color: #3B4455;\n",
              "      fill: #D2E3FC;\n",
              "    }\n",
              "\n",
              "    [theme=dark] .colab-df-convert:hover {\n",
              "      background-color: #434B5C;\n",
              "      box-shadow: 0px 1px 3px 1px rgba(0, 0, 0, 0.15);\n",
              "      filter: drop-shadow(0px 1px 2px rgba(0, 0, 0, 0.3));\n",
              "      fill: #FFFFFF;\n",
              "    }\n",
              "  </style>\n",
              "\n",
              "      <script>\n",
              "        const buttonEl =\n",
              "          document.querySelector('#df-e6893b23-ac15-49c0-bb55-843040987604 button.colab-df-convert');\n",
              "        buttonEl.style.display =\n",
              "          google.colab.kernel.accessAllowed ? 'block' : 'none';\n",
              "\n",
              "        async function convertToInteractive(key) {\n",
              "          const element = document.querySelector('#df-e6893b23-ac15-49c0-bb55-843040987604');\n",
              "          const dataTable =\n",
              "            await google.colab.kernel.invokeFunction('convertToInteractive',\n",
              "                                                     [key], {});\n",
              "          if (!dataTable) return;\n",
              "\n",
              "          const docLinkHtml = 'Like what you see? Visit the ' +\n",
              "            '<a target=\"_blank\" href=https://colab.research.google.com/notebooks/data_table.ipynb>data table notebook</a>'\n",
              "            + ' to learn more about interactive tables.';\n",
              "          element.innerHTML = '';\n",
              "          dataTable['output_type'] = 'display_data';\n",
              "          await google.colab.output.renderOutput(dataTable, element);\n",
              "          const docLink = document.createElement('div');\n",
              "          docLink.innerHTML = docLinkHtml;\n",
              "          element.appendChild(docLink);\n",
              "        }\n",
              "      </script>\n",
              "    </div>\n",
              "  </div>\n",
              "  "
            ]
          },
          "metadata": {},
          "execution_count": 10
        }
      ]
    },
    {
      "cell_type": "code",
      "source": [
        "# variabel bebas online fraud\n",
        "x_data_of = online_fraud.iloc[:, :-1]\n",
        "y_data_of = online_fraud.iloc[:, -1:]\n",
        "#y_data_of  # jangan dihapus, tkut aku lupa\n"
      ],
      "metadata": {
        "id": "4_Br9kEwU0ZU"
      },
      "execution_count": null,
      "outputs": []
    },
    {
      "cell_type": "code",
      "source": [
        "# # Labelling type pembayaran diubah menjadi angka\n",
        "# le = LabelEncoder()\n",
        "# x_data_of['type'] = le.fit_transform(x_data_of['type'])\n",
        "# dict(zip(le.classes_, le.transform(le.classes_)))"
      ],
      "metadata": {
        "id": "m8WnlpqdZZ-y"
      },
      "execution_count": null,
      "outputs": []
    },
    {
      "cell_type": "code",
      "source": [
        "x_data_of"
      ],
      "metadata": {
        "colab": {
          "base_uri": "https://localhost:8080/",
          "height": 424
        },
        "id": "Iu-Xyr4sfEwP",
        "outputId": "8ae09a94-236d-4b41-b9b6-57005d1f92b6"
      },
      "execution_count": null,
      "outputs": [
        {
          "output_type": "execute_result",
          "data": {
            "text/plain": [
              "             type  oldbalanceOrg  newbalanceOrig  oldbalanceDest  \\\n",
              "0         PAYMENT      170136.00       160296.36            0.00   \n",
              "1         PAYMENT       21249.00        19384.72            0.00   \n",
              "2        TRANSFER         181.00            0.00            0.00   \n",
              "3        CASH_OUT         181.00            0.00        21182.00   \n",
              "4         PAYMENT       41554.00        29885.86            0.00   \n",
              "...           ...            ...             ...             ...   \n",
              "6362615  CASH_OUT      339682.13            0.00            0.00   \n",
              "6362616  TRANSFER     6311409.28            0.00            0.00   \n",
              "6362617  CASH_OUT     6311409.28            0.00        68488.84   \n",
              "6362618  TRANSFER      850002.52            0.00            0.00   \n",
              "6362619  CASH_OUT      850002.52            0.00      6510099.11   \n",
              "\n",
              "         newbalanceDest  \n",
              "0                  0.00  \n",
              "1                  0.00  \n",
              "2                  0.00  \n",
              "3                  0.00  \n",
              "4                  0.00  \n",
              "...                 ...  \n",
              "6362615       339682.13  \n",
              "6362616            0.00  \n",
              "6362617      6379898.11  \n",
              "6362618            0.00  \n",
              "6362619      7360101.63  \n",
              "\n",
              "[6362620 rows x 5 columns]"
            ],
            "text/html": [
              "\n",
              "  <div id=\"df-7f96f822-f263-4dc3-bdee-e4cc4892c7c6\">\n",
              "    <div class=\"colab-df-container\">\n",
              "      <div>\n",
              "<style scoped>\n",
              "    .dataframe tbody tr th:only-of-type {\n",
              "        vertical-align: middle;\n",
              "    }\n",
              "\n",
              "    .dataframe tbody tr th {\n",
              "        vertical-align: top;\n",
              "    }\n",
              "\n",
              "    .dataframe thead th {\n",
              "        text-align: right;\n",
              "    }\n",
              "</style>\n",
              "<table border=\"1\" class=\"dataframe\">\n",
              "  <thead>\n",
              "    <tr style=\"text-align: right;\">\n",
              "      <th></th>\n",
              "      <th>type</th>\n",
              "      <th>oldbalanceOrg</th>\n",
              "      <th>newbalanceOrig</th>\n",
              "      <th>oldbalanceDest</th>\n",
              "      <th>newbalanceDest</th>\n",
              "    </tr>\n",
              "  </thead>\n",
              "  <tbody>\n",
              "    <tr>\n",
              "      <th>0</th>\n",
              "      <td>PAYMENT</td>\n",
              "      <td>170136.00</td>\n",
              "      <td>160296.36</td>\n",
              "      <td>0.00</td>\n",
              "      <td>0.00</td>\n",
              "    </tr>\n",
              "    <tr>\n",
              "      <th>1</th>\n",
              "      <td>PAYMENT</td>\n",
              "      <td>21249.00</td>\n",
              "      <td>19384.72</td>\n",
              "      <td>0.00</td>\n",
              "      <td>0.00</td>\n",
              "    </tr>\n",
              "    <tr>\n",
              "      <th>2</th>\n",
              "      <td>TRANSFER</td>\n",
              "      <td>181.00</td>\n",
              "      <td>0.00</td>\n",
              "      <td>0.00</td>\n",
              "      <td>0.00</td>\n",
              "    </tr>\n",
              "    <tr>\n",
              "      <th>3</th>\n",
              "      <td>CASH_OUT</td>\n",
              "      <td>181.00</td>\n",
              "      <td>0.00</td>\n",
              "      <td>21182.00</td>\n",
              "      <td>0.00</td>\n",
              "    </tr>\n",
              "    <tr>\n",
              "      <th>4</th>\n",
              "      <td>PAYMENT</td>\n",
              "      <td>41554.00</td>\n",
              "      <td>29885.86</td>\n",
              "      <td>0.00</td>\n",
              "      <td>0.00</td>\n",
              "    </tr>\n",
              "    <tr>\n",
              "      <th>...</th>\n",
              "      <td>...</td>\n",
              "      <td>...</td>\n",
              "      <td>...</td>\n",
              "      <td>...</td>\n",
              "      <td>...</td>\n",
              "    </tr>\n",
              "    <tr>\n",
              "      <th>6362615</th>\n",
              "      <td>CASH_OUT</td>\n",
              "      <td>339682.13</td>\n",
              "      <td>0.00</td>\n",
              "      <td>0.00</td>\n",
              "      <td>339682.13</td>\n",
              "    </tr>\n",
              "    <tr>\n",
              "      <th>6362616</th>\n",
              "      <td>TRANSFER</td>\n",
              "      <td>6311409.28</td>\n",
              "      <td>0.00</td>\n",
              "      <td>0.00</td>\n",
              "      <td>0.00</td>\n",
              "    </tr>\n",
              "    <tr>\n",
              "      <th>6362617</th>\n",
              "      <td>CASH_OUT</td>\n",
              "      <td>6311409.28</td>\n",
              "      <td>0.00</td>\n",
              "      <td>68488.84</td>\n",
              "      <td>6379898.11</td>\n",
              "    </tr>\n",
              "    <tr>\n",
              "      <th>6362618</th>\n",
              "      <td>TRANSFER</td>\n",
              "      <td>850002.52</td>\n",
              "      <td>0.00</td>\n",
              "      <td>0.00</td>\n",
              "      <td>0.00</td>\n",
              "    </tr>\n",
              "    <tr>\n",
              "      <th>6362619</th>\n",
              "      <td>CASH_OUT</td>\n",
              "      <td>850002.52</td>\n",
              "      <td>0.00</td>\n",
              "      <td>6510099.11</td>\n",
              "      <td>7360101.63</td>\n",
              "    </tr>\n",
              "  </tbody>\n",
              "</table>\n",
              "<p>6362620 rows × 5 columns</p>\n",
              "</div>\n",
              "      <button class=\"colab-df-convert\" onclick=\"convertToInteractive('df-7f96f822-f263-4dc3-bdee-e4cc4892c7c6')\"\n",
              "              title=\"Convert this dataframe to an interactive table.\"\n",
              "              style=\"display:none;\">\n",
              "        \n",
              "  <svg xmlns=\"http://www.w3.org/2000/svg\" height=\"24px\"viewBox=\"0 0 24 24\"\n",
              "       width=\"24px\">\n",
              "    <path d=\"M0 0h24v24H0V0z\" fill=\"none\"/>\n",
              "    <path d=\"M18.56 5.44l.94 2.06.94-2.06 2.06-.94-2.06-.94-.94-2.06-.94 2.06-2.06.94zm-11 1L8.5 8.5l.94-2.06 2.06-.94-2.06-.94L8.5 2.5l-.94 2.06-2.06.94zm10 10l.94 2.06.94-2.06 2.06-.94-2.06-.94-.94-2.06-.94 2.06-2.06.94z\"/><path d=\"M17.41 7.96l-1.37-1.37c-.4-.4-.92-.59-1.43-.59-.52 0-1.04.2-1.43.59L10.3 9.45l-7.72 7.72c-.78.78-.78 2.05 0 2.83L4 21.41c.39.39.9.59 1.41.59.51 0 1.02-.2 1.41-.59l7.78-7.78 2.81-2.81c.8-.78.8-2.07 0-2.86zM5.41 20L4 18.59l7.72-7.72 1.47 1.35L5.41 20z\"/>\n",
              "  </svg>\n",
              "      </button>\n",
              "      \n",
              "  <style>\n",
              "    .colab-df-container {\n",
              "      display:flex;\n",
              "      flex-wrap:wrap;\n",
              "      gap: 12px;\n",
              "    }\n",
              "\n",
              "    .colab-df-convert {\n",
              "      background-color: #E8F0FE;\n",
              "      border: none;\n",
              "      border-radius: 50%;\n",
              "      cursor: pointer;\n",
              "      display: none;\n",
              "      fill: #1967D2;\n",
              "      height: 32px;\n",
              "      padding: 0 0 0 0;\n",
              "      width: 32px;\n",
              "    }\n",
              "\n",
              "    .colab-df-convert:hover {\n",
              "      background-color: #E2EBFA;\n",
              "      box-shadow: 0px 1px 2px rgba(60, 64, 67, 0.3), 0px 1px 3px 1px rgba(60, 64, 67, 0.15);\n",
              "      fill: #174EA6;\n",
              "    }\n",
              "\n",
              "    [theme=dark] .colab-df-convert {\n",
              "      background-color: #3B4455;\n",
              "      fill: #D2E3FC;\n",
              "    }\n",
              "\n",
              "    [theme=dark] .colab-df-convert:hover {\n",
              "      background-color: #434B5C;\n",
              "      box-shadow: 0px 1px 3px 1px rgba(0, 0, 0, 0.15);\n",
              "      filter: drop-shadow(0px 1px 2px rgba(0, 0, 0, 0.3));\n",
              "      fill: #FFFFFF;\n",
              "    }\n",
              "  </style>\n",
              "\n",
              "      <script>\n",
              "        const buttonEl =\n",
              "          document.querySelector('#df-7f96f822-f263-4dc3-bdee-e4cc4892c7c6 button.colab-df-convert');\n",
              "        buttonEl.style.display =\n",
              "          google.colab.kernel.accessAllowed ? 'block' : 'none';\n",
              "\n",
              "        async function convertToInteractive(key) {\n",
              "          const element = document.querySelector('#df-7f96f822-f263-4dc3-bdee-e4cc4892c7c6');\n",
              "          const dataTable =\n",
              "            await google.colab.kernel.invokeFunction('convertToInteractive',\n",
              "                                                     [key], {});\n",
              "          if (!dataTable) return;\n",
              "\n",
              "          const docLinkHtml = 'Like what you see? Visit the ' +\n",
              "            '<a target=\"_blank\" href=https://colab.research.google.com/notebooks/data_table.ipynb>data table notebook</a>'\n",
              "            + ' to learn more about interactive tables.';\n",
              "          element.innerHTML = '';\n",
              "          dataTable['output_type'] = 'display_data';\n",
              "          await google.colab.output.renderOutput(dataTable, element);\n",
              "          const docLink = document.createElement('div');\n",
              "          docLink.innerHTML = docLinkHtml;\n",
              "          element.appendChild(docLink);\n",
              "        }\n",
              "      </script>\n",
              "    </div>\n",
              "  </div>\n",
              "  "
            ]
          },
          "metadata": {},
          "execution_count": 13
        }
      ]
    },
    {
      "cell_type": "markdown",
      "source": [
        "Splitting untuk Online Fraud (of)"
      ],
      "metadata": {
        "id": "HFcUISBMkvh8"
      }
    },
    {
      "cell_type": "code",
      "source": [
        "x_train_of, x_val_of, y_train_of, y_val_of = train_test_split(x_data_of, y_data_of, test_size=0.15)\n",
        "print(f'Jumlah Data Training untuk Online Fraud: {len(x_train_of)}\\nJumlah Data Validation untuk Online Fraud: {len(x_val_of)}')"
      ],
      "metadata": {
        "colab": {
          "base_uri": "https://localhost:8080/"
        },
        "id": "-k-Sb3xukxJG",
        "outputId": "248bde27-92ee-45b4-ab96-81c5bda30f5c"
      },
      "execution_count": null,
      "outputs": [
        {
          "output_type": "stream",
          "name": "stdout",
          "text": [
            "Jumlah Data Training untuk Online Fraud: 5408227\n",
            "Jumlah Data Validation untuk Online Fraud: 954393\n"
          ]
        }
      ]
    },
    {
      "cell_type": "code",
      "source": [
        "x_train_of"
      ],
      "metadata": {
        "colab": {
          "base_uri": "https://localhost:8080/",
          "height": 424
        },
        "id": "0eQ1sc36r1z4",
        "outputId": "c117293a-9994-4edb-f36e-81b42c33f8cc"
      },
      "execution_count": null,
      "outputs": [
        {
          "output_type": "execute_result",
          "data": {
            "text/plain": [
              "             type  oldbalanceOrg  newbalanceOrig  oldbalanceDest  \\\n",
              "2759734  CASH_OUT         815.00            0.00            0.00   \n",
              "5199155   PAYMENT      125649.41       107686.64            0.00   \n",
              "5872782  CASH_OUT           0.00            0.00      1720571.93   \n",
              "4712208   CASH_IN     2088626.65      2163452.45       894062.07   \n",
              "4301319  CASH_OUT           0.00            0.00      4844516.08   \n",
              "...           ...            ...             ...             ...   \n",
              "5168147   PAYMENT           0.00            0.00            0.00   \n",
              "1504958  CASH_OUT           0.00            0.00       388545.56   \n",
              "2615269  TRANSFER          60.00            0.00        29887.39   \n",
              "3382395   PAYMENT      465250.58       457708.34            0.00   \n",
              "4621697   PAYMENT           0.00            0.00            0.00   \n",
              "\n",
              "         newbalanceDest  \n",
              "2759734       184687.12  \n",
              "5199155            0.00  \n",
              "5872782      1825567.62  \n",
              "4712208       819236.26  \n",
              "4301319      5125084.43  \n",
              "...                 ...  \n",
              "5168147            0.00  \n",
              "1504958       654280.45  \n",
              "2615269       443956.50  \n",
              "3382395            0.00  \n",
              "4621697            0.00  \n",
              "\n",
              "[5408227 rows x 5 columns]"
            ],
            "text/html": [
              "\n",
              "  <div id=\"df-2b03ee25-3eba-4234-864e-ceec47d0a65f\">\n",
              "    <div class=\"colab-df-container\">\n",
              "      <div>\n",
              "<style scoped>\n",
              "    .dataframe tbody tr th:only-of-type {\n",
              "        vertical-align: middle;\n",
              "    }\n",
              "\n",
              "    .dataframe tbody tr th {\n",
              "        vertical-align: top;\n",
              "    }\n",
              "\n",
              "    .dataframe thead th {\n",
              "        text-align: right;\n",
              "    }\n",
              "</style>\n",
              "<table border=\"1\" class=\"dataframe\">\n",
              "  <thead>\n",
              "    <tr style=\"text-align: right;\">\n",
              "      <th></th>\n",
              "      <th>type</th>\n",
              "      <th>oldbalanceOrg</th>\n",
              "      <th>newbalanceOrig</th>\n",
              "      <th>oldbalanceDest</th>\n",
              "      <th>newbalanceDest</th>\n",
              "    </tr>\n",
              "  </thead>\n",
              "  <tbody>\n",
              "    <tr>\n",
              "      <th>2759734</th>\n",
              "      <td>CASH_OUT</td>\n",
              "      <td>815.00</td>\n",
              "      <td>0.00</td>\n",
              "      <td>0.00</td>\n",
              "      <td>184687.12</td>\n",
              "    </tr>\n",
              "    <tr>\n",
              "      <th>5199155</th>\n",
              "      <td>PAYMENT</td>\n",
              "      <td>125649.41</td>\n",
              "      <td>107686.64</td>\n",
              "      <td>0.00</td>\n",
              "      <td>0.00</td>\n",
              "    </tr>\n",
              "    <tr>\n",
              "      <th>5872782</th>\n",
              "      <td>CASH_OUT</td>\n",
              "      <td>0.00</td>\n",
              "      <td>0.00</td>\n",
              "      <td>1720571.93</td>\n",
              "      <td>1825567.62</td>\n",
              "    </tr>\n",
              "    <tr>\n",
              "      <th>4712208</th>\n",
              "      <td>CASH_IN</td>\n",
              "      <td>2088626.65</td>\n",
              "      <td>2163452.45</td>\n",
              "      <td>894062.07</td>\n",
              "      <td>819236.26</td>\n",
              "    </tr>\n",
              "    <tr>\n",
              "      <th>4301319</th>\n",
              "      <td>CASH_OUT</td>\n",
              "      <td>0.00</td>\n",
              "      <td>0.00</td>\n",
              "      <td>4844516.08</td>\n",
              "      <td>5125084.43</td>\n",
              "    </tr>\n",
              "    <tr>\n",
              "      <th>...</th>\n",
              "      <td>...</td>\n",
              "      <td>...</td>\n",
              "      <td>...</td>\n",
              "      <td>...</td>\n",
              "      <td>...</td>\n",
              "    </tr>\n",
              "    <tr>\n",
              "      <th>5168147</th>\n",
              "      <td>PAYMENT</td>\n",
              "      <td>0.00</td>\n",
              "      <td>0.00</td>\n",
              "      <td>0.00</td>\n",
              "      <td>0.00</td>\n",
              "    </tr>\n",
              "    <tr>\n",
              "      <th>1504958</th>\n",
              "      <td>CASH_OUT</td>\n",
              "      <td>0.00</td>\n",
              "      <td>0.00</td>\n",
              "      <td>388545.56</td>\n",
              "      <td>654280.45</td>\n",
              "    </tr>\n",
              "    <tr>\n",
              "      <th>2615269</th>\n",
              "      <td>TRANSFER</td>\n",
              "      <td>60.00</td>\n",
              "      <td>0.00</td>\n",
              "      <td>29887.39</td>\n",
              "      <td>443956.50</td>\n",
              "    </tr>\n",
              "    <tr>\n",
              "      <th>3382395</th>\n",
              "      <td>PAYMENT</td>\n",
              "      <td>465250.58</td>\n",
              "      <td>457708.34</td>\n",
              "      <td>0.00</td>\n",
              "      <td>0.00</td>\n",
              "    </tr>\n",
              "    <tr>\n",
              "      <th>4621697</th>\n",
              "      <td>PAYMENT</td>\n",
              "      <td>0.00</td>\n",
              "      <td>0.00</td>\n",
              "      <td>0.00</td>\n",
              "      <td>0.00</td>\n",
              "    </tr>\n",
              "  </tbody>\n",
              "</table>\n",
              "<p>5408227 rows × 5 columns</p>\n",
              "</div>\n",
              "      <button class=\"colab-df-convert\" onclick=\"convertToInteractive('df-2b03ee25-3eba-4234-864e-ceec47d0a65f')\"\n",
              "              title=\"Convert this dataframe to an interactive table.\"\n",
              "              style=\"display:none;\">\n",
              "        \n",
              "  <svg xmlns=\"http://www.w3.org/2000/svg\" height=\"24px\"viewBox=\"0 0 24 24\"\n",
              "       width=\"24px\">\n",
              "    <path d=\"M0 0h24v24H0V0z\" fill=\"none\"/>\n",
              "    <path d=\"M18.56 5.44l.94 2.06.94-2.06 2.06-.94-2.06-.94-.94-2.06-.94 2.06-2.06.94zm-11 1L8.5 8.5l.94-2.06 2.06-.94-2.06-.94L8.5 2.5l-.94 2.06-2.06.94zm10 10l.94 2.06.94-2.06 2.06-.94-2.06-.94-.94-2.06-.94 2.06-2.06.94z\"/><path d=\"M17.41 7.96l-1.37-1.37c-.4-.4-.92-.59-1.43-.59-.52 0-1.04.2-1.43.59L10.3 9.45l-7.72 7.72c-.78.78-.78 2.05 0 2.83L4 21.41c.39.39.9.59 1.41.59.51 0 1.02-.2 1.41-.59l7.78-7.78 2.81-2.81c.8-.78.8-2.07 0-2.86zM5.41 20L4 18.59l7.72-7.72 1.47 1.35L5.41 20z\"/>\n",
              "  </svg>\n",
              "      </button>\n",
              "      \n",
              "  <style>\n",
              "    .colab-df-container {\n",
              "      display:flex;\n",
              "      flex-wrap:wrap;\n",
              "      gap: 12px;\n",
              "    }\n",
              "\n",
              "    .colab-df-convert {\n",
              "      background-color: #E8F0FE;\n",
              "      border: none;\n",
              "      border-radius: 50%;\n",
              "      cursor: pointer;\n",
              "      display: none;\n",
              "      fill: #1967D2;\n",
              "      height: 32px;\n",
              "      padding: 0 0 0 0;\n",
              "      width: 32px;\n",
              "    }\n",
              "\n",
              "    .colab-df-convert:hover {\n",
              "      background-color: #E2EBFA;\n",
              "      box-shadow: 0px 1px 2px rgba(60, 64, 67, 0.3), 0px 1px 3px 1px rgba(60, 64, 67, 0.15);\n",
              "      fill: #174EA6;\n",
              "    }\n",
              "\n",
              "    [theme=dark] .colab-df-convert {\n",
              "      background-color: #3B4455;\n",
              "      fill: #D2E3FC;\n",
              "    }\n",
              "\n",
              "    [theme=dark] .colab-df-convert:hover {\n",
              "      background-color: #434B5C;\n",
              "      box-shadow: 0px 1px 3px 1px rgba(0, 0, 0, 0.15);\n",
              "      filter: drop-shadow(0px 1px 2px rgba(0, 0, 0, 0.3));\n",
              "      fill: #FFFFFF;\n",
              "    }\n",
              "  </style>\n",
              "\n",
              "      <script>\n",
              "        const buttonEl =\n",
              "          document.querySelector('#df-2b03ee25-3eba-4234-864e-ceec47d0a65f button.colab-df-convert');\n",
              "        buttonEl.style.display =\n",
              "          google.colab.kernel.accessAllowed ? 'block' : 'none';\n",
              "\n",
              "        async function convertToInteractive(key) {\n",
              "          const element = document.querySelector('#df-2b03ee25-3eba-4234-864e-ceec47d0a65f');\n",
              "          const dataTable =\n",
              "            await google.colab.kernel.invokeFunction('convertToInteractive',\n",
              "                                                     [key], {});\n",
              "          if (!dataTable) return;\n",
              "\n",
              "          const docLinkHtml = 'Like what you see? Visit the ' +\n",
              "            '<a target=\"_blank\" href=https://colab.research.google.com/notebooks/data_table.ipynb>data table notebook</a>'\n",
              "            + ' to learn more about interactive tables.';\n",
              "          element.innerHTML = '';\n",
              "          dataTable['output_type'] = 'display_data';\n",
              "          await google.colab.output.renderOutput(dataTable, element);\n",
              "          const docLink = document.createElement('div');\n",
              "          docLink.innerHTML = docLinkHtml;\n",
              "          element.appendChild(docLink);\n",
              "        }\n",
              "      </script>\n",
              "    </div>\n",
              "  </div>\n",
              "  "
            ]
          },
          "metadata": {},
          "execution_count": 15
        }
      ]
    },
    {
      "cell_type": "markdown",
      "source": [
        "Normalisasi Data"
      ],
      "metadata": {
        "id": "8YbHyGrOiYbu"
      }
    },
    {
      "cell_type": "code",
      "source": [
        "sc = StandardScaler()\n",
        "x_train_of.iloc[:, 1:] = sc.fit_transform(x_train_of.iloc[:, 1:])\n",
        "x_val_of.iloc[:, 1:] = sc.transform(x_val_of.iloc[:, 1:])\n",
        "\n",
        "x_train_of"
      ],
      "metadata": {
        "colab": {
          "base_uri": "https://localhost:8080/",
          "height": 424
        },
        "id": "9ip0xh7khTHy",
        "outputId": "2df15339-dcaa-48a6-8b89-b98511a39218"
      },
      "execution_count": null,
      "outputs": [
        {
          "output_type": "execute_result",
          "data": {
            "text/plain": [
              "             type  oldbalanceOrg  newbalanceOrig  oldbalanceDest  \\\n",
              "2759734  CASH_OUT      -0.288420       -0.292420       -0.323384   \n",
              "5199155   PAYMENT      -0.245214       -0.255606       -0.323384   \n",
              "5872782  CASH_OUT      -0.288702       -0.292420        0.181804   \n",
              "4712208   CASH_IN       0.434180        0.447185       -0.060873   \n",
              "4301319  CASH_OUT      -0.288702       -0.292420        1.099045   \n",
              "...           ...            ...             ...             ...   \n",
              "5168147   PAYMENT      -0.288702       -0.292420       -0.323384   \n",
              "1504958  CASH_OUT      -0.288702       -0.292420       -0.209300   \n",
              "2615269  TRANSFER      -0.288681       -0.292420       -0.314608   \n",
              "3382395   PAYMENT      -0.127677       -0.135946       -0.323384   \n",
              "4621697   PAYMENT      -0.288702       -0.292420       -0.323384   \n",
              "\n",
              "         newbalanceDest  \n",
              "2759734       -0.282779  \n",
              "5199155       -0.332953  \n",
              "5872782        0.162997  \n",
              "4712208       -0.110392  \n",
              "4301319        1.059372  \n",
              "...                 ...  \n",
              "5168147       -0.332953  \n",
              "1504958       -0.155205  \n",
              "2615269       -0.212344  \n",
              "3382395       -0.332953  \n",
              "4621697       -0.332953  \n",
              "\n",
              "[5408227 rows x 5 columns]"
            ],
            "text/html": [
              "\n",
              "  <div id=\"df-e490aec5-0573-4e45-918b-9f9e3d84ccfb\">\n",
              "    <div class=\"colab-df-container\">\n",
              "      <div>\n",
              "<style scoped>\n",
              "    .dataframe tbody tr th:only-of-type {\n",
              "        vertical-align: middle;\n",
              "    }\n",
              "\n",
              "    .dataframe tbody tr th {\n",
              "        vertical-align: top;\n",
              "    }\n",
              "\n",
              "    .dataframe thead th {\n",
              "        text-align: right;\n",
              "    }\n",
              "</style>\n",
              "<table border=\"1\" class=\"dataframe\">\n",
              "  <thead>\n",
              "    <tr style=\"text-align: right;\">\n",
              "      <th></th>\n",
              "      <th>type</th>\n",
              "      <th>oldbalanceOrg</th>\n",
              "      <th>newbalanceOrig</th>\n",
              "      <th>oldbalanceDest</th>\n",
              "      <th>newbalanceDest</th>\n",
              "    </tr>\n",
              "  </thead>\n",
              "  <tbody>\n",
              "    <tr>\n",
              "      <th>2759734</th>\n",
              "      <td>CASH_OUT</td>\n",
              "      <td>-0.288420</td>\n",
              "      <td>-0.292420</td>\n",
              "      <td>-0.323384</td>\n",
              "      <td>-0.282779</td>\n",
              "    </tr>\n",
              "    <tr>\n",
              "      <th>5199155</th>\n",
              "      <td>PAYMENT</td>\n",
              "      <td>-0.245214</td>\n",
              "      <td>-0.255606</td>\n",
              "      <td>-0.323384</td>\n",
              "      <td>-0.332953</td>\n",
              "    </tr>\n",
              "    <tr>\n",
              "      <th>5872782</th>\n",
              "      <td>CASH_OUT</td>\n",
              "      <td>-0.288702</td>\n",
              "      <td>-0.292420</td>\n",
              "      <td>0.181804</td>\n",
              "      <td>0.162997</td>\n",
              "    </tr>\n",
              "    <tr>\n",
              "      <th>4712208</th>\n",
              "      <td>CASH_IN</td>\n",
              "      <td>0.434180</td>\n",
              "      <td>0.447185</td>\n",
              "      <td>-0.060873</td>\n",
              "      <td>-0.110392</td>\n",
              "    </tr>\n",
              "    <tr>\n",
              "      <th>4301319</th>\n",
              "      <td>CASH_OUT</td>\n",
              "      <td>-0.288702</td>\n",
              "      <td>-0.292420</td>\n",
              "      <td>1.099045</td>\n",
              "      <td>1.059372</td>\n",
              "    </tr>\n",
              "    <tr>\n",
              "      <th>...</th>\n",
              "      <td>...</td>\n",
              "      <td>...</td>\n",
              "      <td>...</td>\n",
              "      <td>...</td>\n",
              "      <td>...</td>\n",
              "    </tr>\n",
              "    <tr>\n",
              "      <th>5168147</th>\n",
              "      <td>PAYMENT</td>\n",
              "      <td>-0.288702</td>\n",
              "      <td>-0.292420</td>\n",
              "      <td>-0.323384</td>\n",
              "      <td>-0.332953</td>\n",
              "    </tr>\n",
              "    <tr>\n",
              "      <th>1504958</th>\n",
              "      <td>CASH_OUT</td>\n",
              "      <td>-0.288702</td>\n",
              "      <td>-0.292420</td>\n",
              "      <td>-0.209300</td>\n",
              "      <td>-0.155205</td>\n",
              "    </tr>\n",
              "    <tr>\n",
              "      <th>2615269</th>\n",
              "      <td>TRANSFER</td>\n",
              "      <td>-0.288681</td>\n",
              "      <td>-0.292420</td>\n",
              "      <td>-0.314608</td>\n",
              "      <td>-0.212344</td>\n",
              "    </tr>\n",
              "    <tr>\n",
              "      <th>3382395</th>\n",
              "      <td>PAYMENT</td>\n",
              "      <td>-0.127677</td>\n",
              "      <td>-0.135946</td>\n",
              "      <td>-0.323384</td>\n",
              "      <td>-0.332953</td>\n",
              "    </tr>\n",
              "    <tr>\n",
              "      <th>4621697</th>\n",
              "      <td>PAYMENT</td>\n",
              "      <td>-0.288702</td>\n",
              "      <td>-0.292420</td>\n",
              "      <td>-0.323384</td>\n",
              "      <td>-0.332953</td>\n",
              "    </tr>\n",
              "  </tbody>\n",
              "</table>\n",
              "<p>5408227 rows × 5 columns</p>\n",
              "</div>\n",
              "      <button class=\"colab-df-convert\" onclick=\"convertToInteractive('df-e490aec5-0573-4e45-918b-9f9e3d84ccfb')\"\n",
              "              title=\"Convert this dataframe to an interactive table.\"\n",
              "              style=\"display:none;\">\n",
              "        \n",
              "  <svg xmlns=\"http://www.w3.org/2000/svg\" height=\"24px\"viewBox=\"0 0 24 24\"\n",
              "       width=\"24px\">\n",
              "    <path d=\"M0 0h24v24H0V0z\" fill=\"none\"/>\n",
              "    <path d=\"M18.56 5.44l.94 2.06.94-2.06 2.06-.94-2.06-.94-.94-2.06-.94 2.06-2.06.94zm-11 1L8.5 8.5l.94-2.06 2.06-.94-2.06-.94L8.5 2.5l-.94 2.06-2.06.94zm10 10l.94 2.06.94-2.06 2.06-.94-2.06-.94-.94-2.06-.94 2.06-2.06.94z\"/><path d=\"M17.41 7.96l-1.37-1.37c-.4-.4-.92-.59-1.43-.59-.52 0-1.04.2-1.43.59L10.3 9.45l-7.72 7.72c-.78.78-.78 2.05 0 2.83L4 21.41c.39.39.9.59 1.41.59.51 0 1.02-.2 1.41-.59l7.78-7.78 2.81-2.81c.8-.78.8-2.07 0-2.86zM5.41 20L4 18.59l7.72-7.72 1.47 1.35L5.41 20z\"/>\n",
              "  </svg>\n",
              "      </button>\n",
              "      \n",
              "  <style>\n",
              "    .colab-df-container {\n",
              "      display:flex;\n",
              "      flex-wrap:wrap;\n",
              "      gap: 12px;\n",
              "    }\n",
              "\n",
              "    .colab-df-convert {\n",
              "      background-color: #E8F0FE;\n",
              "      border: none;\n",
              "      border-radius: 50%;\n",
              "      cursor: pointer;\n",
              "      display: none;\n",
              "      fill: #1967D2;\n",
              "      height: 32px;\n",
              "      padding: 0 0 0 0;\n",
              "      width: 32px;\n",
              "    }\n",
              "\n",
              "    .colab-df-convert:hover {\n",
              "      background-color: #E2EBFA;\n",
              "      box-shadow: 0px 1px 2px rgba(60, 64, 67, 0.3), 0px 1px 3px 1px rgba(60, 64, 67, 0.15);\n",
              "      fill: #174EA6;\n",
              "    }\n",
              "\n",
              "    [theme=dark] .colab-df-convert {\n",
              "      background-color: #3B4455;\n",
              "      fill: #D2E3FC;\n",
              "    }\n",
              "\n",
              "    [theme=dark] .colab-df-convert:hover {\n",
              "      background-color: #434B5C;\n",
              "      box-shadow: 0px 1px 3px 1px rgba(0, 0, 0, 0.15);\n",
              "      filter: drop-shadow(0px 1px 2px rgba(0, 0, 0, 0.3));\n",
              "      fill: #FFFFFF;\n",
              "    }\n",
              "  </style>\n",
              "\n",
              "      <script>\n",
              "        const buttonEl =\n",
              "          document.querySelector('#df-e490aec5-0573-4e45-918b-9f9e3d84ccfb button.colab-df-convert');\n",
              "        buttonEl.style.display =\n",
              "          google.colab.kernel.accessAllowed ? 'block' : 'none';\n",
              "\n",
              "        async function convertToInteractive(key) {\n",
              "          const element = document.querySelector('#df-e490aec5-0573-4e45-918b-9f9e3d84ccfb');\n",
              "          const dataTable =\n",
              "            await google.colab.kernel.invokeFunction('convertToInteractive',\n",
              "                                                     [key], {});\n",
              "          if (!dataTable) return;\n",
              "\n",
              "          const docLinkHtml = 'Like what you see? Visit the ' +\n",
              "            '<a target=\"_blank\" href=https://colab.research.google.com/notebooks/data_table.ipynb>data table notebook</a>'\n",
              "            + ' to learn more about interactive tables.';\n",
              "          element.innerHTML = '';\n",
              "          dataTable['output_type'] = 'display_data';\n",
              "          await google.colab.output.renderOutput(dataTable, element);\n",
              "          const docLink = document.createElement('div');\n",
              "          docLink.innerHTML = docLinkHtml;\n",
              "          element.appendChild(docLink);\n",
              "        }\n",
              "      </script>\n",
              "    </div>\n",
              "  </div>\n",
              "  "
            ]
          },
          "metadata": {},
          "execution_count": 16
        }
      ]
    },
    {
      "cell_type": "markdown",
      "source": [
        "# **Model Building**"
      ],
      "metadata": {
        "id": "OF0RBITfzw6E"
      }
    },
    {
      "cell_type": "markdown",
      "source": [
        "Pre-event Model"
      ],
      "metadata": {
        "id": "J93s3eb9z2gU"
      }
    },
    {
      "cell_type": "markdown",
      "source": [
        "Adalah model yang dipakai untuk mengklasifikasikan event sebelum berlangsung (Pada saat proses inisiasi) atau ketika user akan membuat suatu event, Data **nama_penyelengara**, **kategori_event**, **tipe_transaksi**, dan **kota_asal**"
      ],
      "metadata": {
        "id": "tdAMqmos0D16"
      }
    },
    {
      "cell_type": "code",
      "source": [
        "unique_merchant = np.unique(x_data['merchantName'])\n",
        "unique_transaction_type = np.unique(x_data['transactionType'])\n",
        "unique_merchant_category = np.unique(x_data['merchantCategoryCode'])\n"
      ],
      "metadata": {
        "id": "QIvk7IyG2Cq6"
      },
      "execution_count": null,
      "outputs": []
    },
    {
      "cell_type": "code",
      "source": [
        "class PreEventModel(tf.keras.Model):\n",
        "  def __init__(self,name=None, input_shape=(None, 18), city_list=list_city, merchant_name=unique_merchant, trans_type=unique_transaction_type, merchant_cat=unique_merchant_category):\n",
        "    super(PreEventModel, self).__init__(name=name)\n",
        "    self.embed_dim = 32\n",
        "    self.threshold = 0.7\n",
        "\n",
        "    self.merchant_embed = tf.keras.Sequential([\n",
        "        tf.keras.layers.StringLookup(vocabulary=merchant_name, mask_token=None),\n",
        "        tf.keras.layers.Embedding(len(unique_merchant) + 1, self.embed_dim)\n",
        "    ], name='merchant_embed')\n",
        "\n",
        "    self.transType_model = tf.keras.Sequential([\n",
        "        tf.keras.layers.StringLookup(vocabulary=trans_type),\n",
        "        tf.keras.layers.Dense(256, activation='relu'),\n",
        "        tf.keras.layers.Dense(128, activation='relu'),\n",
        "        tf.keras.layers.Dense(len(trans_type))\n",
        "    ], name='transType_model')\n",
        "\n",
        "    self.merchantCategory_model = tf.keras.Sequential([\n",
        "        tf.keras.layers.StringLookup(vocabulary=trans_type, output_mode='multi_hot'),\n",
        "        tf.keras.layers.Dense(256, activation='relu'),\n",
        "        tf.keras.layers.Dense(128, activation='relu'),\n",
        "        tf.keras.layers.Dense(len(merchant_cat))\n",
        "    ], name='merchant_cat_model')\n",
        "\n",
        "    self.merchantCity_embed = tf.keras.Sequential([\n",
        "        tf.keras.layers.StringLookup(vocabulary=city_list, output_mode='one_hot'),\n",
        "        tf.keras.layers.Dense(len(list_city))\n",
        "    ], name='merchantCity_embed')\n",
        "\n",
        "    self.last_layer = tf.keras.Sequential([\n",
        "        tf.keras.layers.Dense(256, activation='relu'),\n",
        "        tf.keras.layers.Dense(128, activation='relu'),\n",
        "        tf.keras.layers.Dense(32, activation='relu'),\n",
        "        tf.keras.layers.Dense(1, activation='sigmoid')\n",
        "    ], name='output_model')\n",
        "\n",
        "\n",
        "\n",
        "  def call(self, inputs):\n",
        "    merchantName, merchant_cat, merchant_type, merchantCity = inputs\n",
        "    self.merged_model = tf.concat([self.merchant_embed(merchantName), self.merchantCategory_model(merchant_cat), self.transType_model(merchant_type), self.merchantCity_embed(merchantCity)], axis=1)\n",
        "    return self.last_layer(self.merged_model)"
      ],
      "metadata": {
        "id": "HbhAtYhF1Bd-"
      },
      "execution_count": null,
      "outputs": []
    },
    {
      "cell_type": "code",
      "source": [
        "unique_type = np.unique(x_data_of['type'])"
      ],
      "metadata": {
        "id": "dB6lOHbWGRo7"
      },
      "execution_count": null,
      "outputs": []
    },
    {
      "cell_type": "code",
      "source": [
        "class OnGoingEventModel(tf.keras.Model):\n",
        "  def __init__(self,input_shape=(None,2), type_list=unique_type):\n",
        "    super().__init__()\n",
        "    self.threshold = 0.7\n",
        "    self.event_holder_model = tf.keras.Sequential([\n",
        "        tf.keras.layers.Dense(256, activation='relu', input_shape=input_shape),\n",
        "        tf.keras.layers.Dense(128, activation='relu'),\n",
        "        tf.keras.layers.Dense(128, activation='relu'),\n",
        "        tf.keras.layers.Dense(32)\n",
        "    ], name='event_holder_model')\n",
        "    self.costumer_model = tf.keras.Sequential([\n",
        "        tf.keras.layers.Dense(256, activation='relu', input_shape=input_shape),\n",
        "        tf.keras.layers.Dense(128, activation='relu'),\n",
        "        tf.keras.layers.Dense(128, activation='relu'),\n",
        "        tf.keras.layers.Dense(32)\n",
        "    ], name='costumer_model')\n",
        "\n",
        "    self.type_model = tf.keras.Sequential([\n",
        "        tf.keras.layers.StringLookup(vocabulary=type_list),\n",
        "        tf.keras.layers.Dense(16, activation='relu'),\n",
        "        tf.keras.layers.Dense(8, activation='relu'),\n",
        "        tf.keras.layers.Dense(len(type_list))\n",
        "    ], name='type_model')\n",
        "\n",
        "    self.last_layer = tf.keras.Sequential([\n",
        "        tf.keras.layers.Dense(32, activation='relu'),\n",
        "        tf.keras.layers.Dense(8, activation='relu'),\n",
        "        tf.keras.layers.Dense(1, activation='sigmoid')\n",
        "    ], name='output_model')\n",
        "\n",
        "  def call(self, inputs):\n",
        "    trans_type, event_holder_data , costumer_data = inputs\n",
        "    self.merged_model = tf.concat([self.type_model(trans_type), self.costumer_model(costumer_data), self.event_holder_model(event_holder_data)], axis=1)\n",
        "    return self.last_layer(self.merged_model)"
      ],
      "metadata": {
        "id": "yCRDjGQNG30M"
      },
      "execution_count": null,
      "outputs": []
    },
    {
      "cell_type": "markdown",
      "source": [
        "# **Data Training**"
      ],
      "metadata": {
        "id": "PUJu0PSFmkiM"
      }
    },
    {
      "cell_type": "code",
      "source": [
        "EPOCH = 2"
      ],
      "metadata": {
        "id": "hbzWCyz4HS7k"
      },
      "execution_count": null,
      "outputs": []
    },
    {
      "cell_type": "code",
      "source": [
        "def get_pre_event_model():\n"
      ],
      "metadata": {
        "id": "h2c5xT0CP7dA"
      },
      "execution_count": null,
      "outputs": []
    },
    {
      "cell_type": "code",
      "source": [
        "pre_model = PreEventModel()"
      ],
      "metadata": {
        "id": "RJcDcY1Qmo9j"
      },
      "execution_count": null,
      "outputs": []
    },
    {
      "cell_type": "code",
      "source": [
        "onGoing_model = OnGoingEventModel()"
      ],
      "metadata": {
        "id": "x8VfYSNFHQFu"
      },
      "execution_count": null,
      "outputs": []
    },
    {
      "cell_type": "markdown",
      "source": [
        "# **pre-model Event build**"
      ],
      "metadata": {
        "id": "J5tpa6CjpEH7"
      }
    },
    {
      "cell_type": "markdown",
      "source": [
        "**Model_var** = pre_model"
      ],
      "metadata": {
        "id": "1qAYloJxveNe"
      }
    },
    {
      "cell_type": "markdown",
      "source": [
        "**Features** : x_data,\n",
        "**label** : y_data"
      ],
      "metadata": {
        "id": "IUtjcKbduqEq"
      }
    },
    {
      "cell_type": "markdown",
      "source": [
        "**Data Splitting**"
      ],
      "metadata": {
        "id": "IX8XppOZrdq-"
      }
    },
    {
      "cell_type": "code",
      "source": [
        "x_train_fraud, x_val_fraud, y_train_fraud, y_val_fraud = train_test_split(x_data, y_data, test_size=0.10)\n",
        "print(f'Jumlah Data Training untuk Fraud: {len(x_train_fraud)}\\nJumlah Data Validation untuk Fraud: {len(x_val_fraud)}')"
      ],
      "metadata": {
        "id": "P7kCAivArpJi"
      },
      "execution_count": null,
      "outputs": []
    },
    {
      "cell_type": "code",
      "source": [
        "print(x_train_fraud.shape, y_train_fraud.shape)"
      ],
      "metadata": {
        "colab": {
          "base_uri": "https://localhost:8080/"
        },
        "id": "SHFi5oS5b7f9",
        "outputId": "16f38f47-77a6-49ac-ae5d-9ea21cf4a76a"
      },
      "execution_count": null,
      "outputs": [
        {
          "output_type": "stream",
          "name": "stdout",
          "text": [
            "(707726, 4) (707726, 1)\n"
          ]
        }
      ]
    },
    {
      "cell_type": "markdown",
      "source": [
        "x_train_fraud.iloc[:, 0].values, x_train_fraud.iloc[:, 1:-1].values, x_train_fraud.iloc[:, -1].values"
      ],
      "metadata": {
        "id": "7rXhbqVBEnYs"
      }
    },
    {
      "cell_type": "code",
      "source": [
        "x_train_fraud.columns"
      ],
      "metadata": {
        "colab": {
          "base_uri": "https://localhost:8080/"
        },
        "id": "X8mqWBTCHzyG",
        "outputId": "0db0bcbb-9f91-4f1a-872e-f9ed1c821d1b"
      },
      "execution_count": null,
      "outputs": [
        {
          "output_type": "execute_result",
          "data": {
            "text/plain": [
              "Index(['merchantName', 'merchantCategoryCode', 'transactionType',\n",
              "       'merchantCity'],\n",
              "      dtype='object')"
            ]
          },
          "metadata": {},
          "execution_count": 30
        }
      ]
    },
    {
      "cell_type": "code",
      "source": [
        "merchant_name, merchant_cat, merchant_type, merchant_city = x_train_fraud['merchantName'].values, x_train_fraud['merchantCategoryCode'].values, x_train_fraud['transactionType'].values, x_train_fraud['merchantCity'].values\n",
        "y_data = y_train_fraud.values"
      ],
      "metadata": {
        "id": "G312SK5RpcDR"
      },
      "execution_count": null,
      "outputs": []
    },
    {
      "cell_type": "code",
      "source": [
        "pre_model.compile(optimizer=tf.keras.optimizers.Adam(1e-3), loss='binary_crossentropy', metrics=['accuracy'])"
      ],
      "metadata": {
        "id": "jpTphMdlnFEC"
      },
      "execution_count": null,
      "outputs": []
    },
    {
      "cell_type": "code",
      "source": [
        "features_model_input = [merchant_name, np.expand_dims(merchant_cat, axis=1), np.expand_dims(merchant_type, axis=1), merchant_city]"
      ],
      "metadata": {
        "id": "Deaqn4nOIlIW"
      },
      "execution_count": null,
      "outputs": []
    },
    {
      "cell_type": "code",
      "source": [
        "pre_model.fit(features_model_input, y_data, epochs=EPOCH, batch_size=1024)"
      ],
      "metadata": {
        "id": "UoW78QLKpTjM"
      },
      "execution_count": null,
      "outputs": []
    },
    {
      "cell_type": "code",
      "source": [
        "pre_model.summary()"
      ],
      "metadata": {
        "colab": {
          "base_uri": "https://localhost:8080/"
        },
        "id": "AwcinZwfZe5n",
        "outputId": "69f21712-be71-4a0d-e919-a163d640cd18"
      },
      "execution_count": null,
      "outputs": [
        {
          "output_type": "stream",
          "name": "stdout",
          "text": [
            "Model: \"pre_event_model_3\"\n",
            "_________________________________________________________________\n",
            " Layer (type)                Output Shape              Param #   \n",
            "=================================================================\n",
            " merchant_embed (Sequential)  (None, 32)               6592      \n",
            "                                                                 \n",
            " transType_model (Sequential  (None, 4)                33924     \n",
            " )                                                               \n",
            "                                                                 \n",
            " merchant_cat_model (Sequent  (None, 19)               36883     \n",
            " ial)                                                            \n",
            "                                                                 \n",
            " merchantCity_embed (Sequent  (None, 15)               255       \n",
            " ial)                                                            \n",
            "                                                                 \n",
            " output_model (Sequential)   (None, 1)                 55233     \n",
            "                                                                 \n",
            "=================================================================\n",
            "Total params: 132,887\n",
            "Trainable params: 132,887\n",
            "Non-trainable params: 0\n",
            "_________________________________________________________________\n"
          ]
        }
      ]
    },
    {
      "cell_type": "markdown",
      "source": [
        "# **onGoingEvent Build**"
      ],
      "metadata": {
        "id": "Ckwkrz33oSHD"
      }
    },
    {
      "cell_type": "markdown",
      "source": [
        "**Model_var** = onGoing_model"
      ],
      "metadata": {
        "id": "58_AHWzGvZ4z"
      }
    },
    {
      "cell_type": "markdown",
      "source": [
        "**Train_Features** : x_train_of,\n",
        "**Train_label** : y_train_of"
      ],
      "metadata": {
        "id": "iObrwq6QuOcT"
      }
    },
    {
      "cell_type": "markdown",
      "source": [
        "**val_Features** : x_val_of,\n",
        "**val_label** : y_val_of"
      ],
      "metadata": {
        "id": "Xwwo5f5Huc_e"
      }
    },
    {
      "cell_type": "code",
      "source": [
        "print(x_train_of.shape, y_train_of.shape)"
      ],
      "metadata": {
        "colab": {
          "base_uri": "https://localhost:8080/"
        },
        "id": "dEAvp6FroRct",
        "outputId": "bc74415c-0967-46a0-f852-c76c9c49345b"
      },
      "execution_count": null,
      "outputs": [
        {
          "output_type": "stream",
          "name": "stdout",
          "text": [
            "(5408227, 5) (5408227, 1)\n"
          ]
        }
      ]
    },
    {
      "cell_type": "code",
      "source": [
        "type_data, costumer_data, event_holder_data = np.expand_dims(x_train_of.iloc[:, 0].values, axis=1), x_train_of.iloc[:,1:-2].values, x_train_of.iloc[:, -2:].values\n",
        "y_train_of = y_train_of.values"
      ],
      "metadata": {
        "id": "bEvwqCTmutpm"
      },
      "execution_count": null,
      "outputs": []
    },
    {
      "cell_type": "code",
      "source": [
        "onGoing_model.compile(optimizer=tf.keras.optimizers.Adam(1e-3), loss='binary_crossentropy', metrics=['accuracy'])"
      ],
      "metadata": {
        "id": "waXXpFIkvUoi"
      },
      "execution_count": null,
      "outputs": []
    },
    {
      "cell_type": "code",
      "source": [
        "onGoing_model.fit([type_data, costumer_data, event_holder_data], y_train_of, epochs=EPOCH, batch_size=65536)"
      ],
      "metadata": {
        "colab": {
          "base_uri": "https://localhost:8080/"
        },
        "id": "AMR9_XzUvmRq",
        "outputId": "6f871769-0fb5-4e7a-b333-d7cb9a3acb30"
      },
      "execution_count": null,
      "outputs": [
        {
          "output_type": "stream",
          "name": "stdout",
          "text": [
            "Epoch 1/3\n",
            "331/331 [==============================] - 176s 527ms/step - loss: 0.0040 - accuracy: 0.9993\n",
            "Epoch 2/3\n",
            "331/331 [==============================] - 150s 454ms/step - loss: 0.0036 - accuracy: 0.9993\n",
            "Epoch 3/3\n",
            "331/331 [==============================] - 136s 411ms/step - loss: 0.0035 - accuracy: 0.9993\n"
          ]
        },
        {
          "output_type": "execute_result",
          "data": {
            "text/plain": [
              "<keras.callbacks.History at 0x7efbe0773310>"
            ]
          },
          "metadata": {},
          "execution_count": 38
        }
      ]
    },
    {
      "cell_type": "markdown",
      "source": [
        "# **Model Testing**"
      ],
      "metadata": {
        "id": "QGzbT1mv1e3M"
      }
    },
    {
      "cell_type": "markdown",
      "source": [
        "# Pre-Event Model"
      ],
      "metadata": {
        "id": "KuBoqtw81hJf"
      }
    },
    {
      "cell_type": "code",
      "source": [
        "x_val_fraud.iloc[20, 0].values"
      ],
      "metadata": {
        "id": "M4tsYLu7EPQ1"
      },
      "execution_count": null,
      "outputs": []
    },
    {
      "cell_type": "code",
      "source": [
        "pre_model.evaluate([x_val_fraud.iloc[:, 0].values, x_val_fraud.iloc[:, 1:-1].values, x_val_fraud.iloc[:, -1].values], y_val_fraud, return_dict=True )"
      ],
      "metadata": {
        "id": "TtTMLjWaZ0nJ"
      },
      "execution_count": null,
      "outputs": []
    },
    {
      "cell_type": "code",
      "source": [
        "y_pre_pred = pre_model.predict([x_val_fraud.iloc[20, 0], x_val_fraud.iloc[20:25, 1:-1], x_val_fraud.iloc[20, -1]])\n",
        "y_pre_pred"
      ],
      "metadata": {
        "colab": {
          "base_uri": "https://localhost:8080/"
        },
        "id": "Ej5Hexj9mWtG",
        "outputId": "474a5505-02af-4a32-87fa-c112f961450a"
      },
      "execution_count": null,
      "outputs": [
        {
          "output_type": "stream",
          "name": "stdout",
          "text": [
            "1/1 [==============================] - 0s 141ms/step\n"
          ]
        },
        {
          "output_type": "execute_result",
          "data": {
            "text/plain": [
              "array([[2.04285011e-02],\n",
              "       [1.27778575e-02],\n",
              "       [2.63563748e-02],\n",
              "       [1.28777783e-05],\n",
              "       [1.28777783e-05]], dtype=float32)"
            ]
          },
          "metadata": {},
          "execution_count": 48
        }
      ]
    },
    {
      "cell_type": "code",
      "source": [
        "np.where(y_pre_pred > pre_model.threshold , 1 , 0)"
      ],
      "metadata": {
        "colab": {
          "base_uri": "https://localhost:8080/"
        },
        "id": "wLqLEEmynJeh",
        "outputId": "58feee6c-23b8-4e3b-decd-58ade0fd35ea"
      },
      "execution_count": null,
      "outputs": [
        {
          "output_type": "execute_result",
          "data": {
            "text/plain": [
              "array([[0],\n",
              "       [0],\n",
              "       [0],\n",
              "       [0],\n",
              "       [0]])"
            ]
          },
          "metadata": {},
          "execution_count": 52
        }
      ]
    },
    {
      "cell_type": "code",
      "source": [
        "tf.saved_model.save(pre_model, '/content/drive/MyDrive/CAPSTONE 2023/')"
      ],
      "metadata": {
        "colab": {
          "base_uri": "https://localhost:8080/"
        },
        "id": "9EJ0yyPxGWJb",
        "outputId": "fb96a773-f7ba-46c4-9d4f-aab057e0f4b3"
      },
      "execution_count": null,
      "outputs": [
        {
          "output_type": "stream",
          "name": "stderr",
          "text": [
            "WARNING:absl:Found untraced functions such as _update_step_xla while saving (showing 1 of 1). These functions will not be directly callable after loading.\n"
          ]
        }
      ]
    },
    {
      "cell_type": "markdown",
      "source": [
        "# On-going Event Model"
      ],
      "metadata": {
        "id": "U9ROUfWU1kXv"
      }
    },
    {
      "cell_type": "code",
      "source": [
        "onGoing_model.evaluate([np.expand_dims(x_val_of.iloc[:, 0].values, axis=1), x_val_of.iloc[:,1:-2].values, x_val_of.iloc[:, -2:].values], y_val_of, return_dict=True )"
      ],
      "metadata": {
        "colab": {
          "base_uri": "https://localhost:8080/"
        },
        "outputId": "67c9f8b2-053b-4d98-d9c9-70dbebd0b008",
        "id": "HDb52ZXo15e2"
      },
      "execution_count": null,
      "outputs": [
        {
          "output_type": "stream",
          "name": "stdout",
          "text": [
            "29825/29825 [==============================] - 311s 10ms/step - loss: 0.0032 - accuracy: 0.9993\n"
          ]
        },
        {
          "output_type": "execute_result",
          "data": {
            "text/plain": [
              "{'loss': 0.0032163113355636597, 'accuracy': 0.9993011355400085}"
            ]
          },
          "metadata": {},
          "execution_count": 39
        }
      ]
    },
    {
      "cell_type": "code",
      "source": [
        "y_on_pred = onGoing_model.predict([np.expand_dims(x_val_of.iloc[10:15, 0].values, axis=1), x_val_of.iloc[10:15,1:-2].values, x_val_of.iloc[10:15, -2:].values])\n",
        "y_on_pred"
      ],
      "metadata": {
        "colab": {
          "base_uri": "https://localhost:8080/"
        },
        "outputId": "e410d982-6712-43fc-d2d4-5bb5bc2d91dc",
        "id": "Oxe7o-kV15e4"
      },
      "execution_count": null,
      "outputs": [
        {
          "output_type": "stream",
          "name": "stdout",
          "text": [
            "1/1 [==============================] - 0s 174ms/step\n"
          ]
        },
        {
          "output_type": "execute_result",
          "data": {
            "text/plain": [
              "array([[1.5781833e-04],\n",
              "       [4.2757316e-04],\n",
              "       [2.5923412e-06],\n",
              "       [3.1840544e-05],\n",
              "       [9.2897948e-04]], dtype=float32)"
            ]
          },
          "metadata": {},
          "execution_count": 40
        }
      ]
    },
    {
      "cell_type": "code",
      "source": [
        "np.where(y_on_pred > onGoing_model.threshold , 1 , 0)"
      ],
      "metadata": {
        "colab": {
          "base_uri": "https://localhost:8080/"
        },
        "outputId": "ab512d12-f0c4-4786-8221-520c895b0627",
        "id": "9QtxOnzF15e6"
      },
      "execution_count": null,
      "outputs": [
        {
          "output_type": "execute_result",
          "data": {
            "text/plain": [
              "array([[0],\n",
              "       [0],\n",
              "       [0],\n",
              "       [0],\n",
              "       [0]])"
            ]
          },
          "metadata": {},
          "execution_count": 41
        }
      ]
    }
  ]
}